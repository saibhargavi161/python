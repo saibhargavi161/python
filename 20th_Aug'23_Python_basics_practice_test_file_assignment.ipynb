{
 "cells": [
  {
   "cell_type": "markdown",
   "id": "b30be897-ed5c-4637-8e97-d47602281ebc",
   "metadata": {},
   "source": [
    "TOPIC: String Based Assignment Problem\n",
    "1. Write a program to reverse a string."
   ]
  },
  {
   "cell_type": "code",
   "execution_count": 8,
   "id": "5d121bc9-f848-40b8-b091-064aa47f153b",
   "metadata": {},
   "outputs": [],
   "source": [
    "string=\"saibhargavi\""
   ]
  },
  {
   "cell_type": "code",
   "execution_count": 9,
   "id": "3828d42e-0566-44ee-a848-2d575a24a39c",
   "metadata": {},
   "outputs": [
    {
     "data": {
      "text/plain": [
       "'ivagrahbias'"
      ]
     },
     "execution_count": 9,
     "metadata": {},
     "output_type": "execute_result"
    }
   ],
   "source": [
    "string[::-1]"
   ]
  },
  {
   "cell_type": "markdown",
   "id": "91809bf3-fbe8-468b-bd75-26c5314bf4a6",
   "metadata": {},
   "source": [
    "2. Check if a string is a palindrome."
   ]
  },
  {
   "cell_type": "code",
   "execution_count": 3,
   "id": "275225fc-8f54-4475-a2a8-340bc71fe728",
   "metadata": {},
   "outputs": [
    {
     "name": "stdin",
     "output_type": "stream",
     "text": [
      "Enter any string level\n"
     ]
    }
   ],
   "source": [
    "string=input(\"Enter any string\")"
   ]
  },
  {
   "cell_type": "code",
   "execution_count": 4,
   "id": "067766ca-6a68-46f1-9839-677825ba447b",
   "metadata": {},
   "outputs": [],
   "source": [
    "reversed_string=string[::-1]"
   ]
  },
  {
   "cell_type": "code",
   "execution_count": 5,
   "id": "7886672a-2395-4c99-a7aa-92de478f5a39",
   "metadata": {},
   "outputs": [
    {
     "name": "stdout",
     "output_type": "stream",
     "text": [
      "string is a palindrome\n"
     ]
    }
   ],
   "source": [
    "if string==reversed_string:\n",
    "    print(\"string is a palindrome\")"
   ]
  },
  {
   "cell_type": "markdown",
   "id": "e59c7065-c66d-43d2-88ca-6357d191e0a5",
   "metadata": {},
   "source": [
    "3. Convert a string to uppercase."
   ]
  },
  {
   "cell_type": "code",
   "execution_count": 6,
   "id": "a19b220e-ad16-4b7f-9623-187bc5362876",
   "metadata": {},
   "outputs": [],
   "source": [
    "string=\"pwskills\""
   ]
  },
  {
   "cell_type": "code",
   "execution_count": 7,
   "id": "041ea9ce-dfa6-402c-8da8-9fb06ce26124",
   "metadata": {},
   "outputs": [
    {
     "data": {
      "text/plain": [
       "'PWSKILLS'"
      ]
     },
     "execution_count": 7,
     "metadata": {},
     "output_type": "execute_result"
    }
   ],
   "source": [
    "string.upper()"
   ]
  },
  {
   "cell_type": "markdown",
   "id": "88525c79-d90c-43e4-a6a3-c00898699615",
   "metadata": {},
   "source": [
    "4. Convert a string to lowercase."
   ]
  },
  {
   "cell_type": "code",
   "execution_count": 8,
   "id": "e433fd89-d084-4890-aaf1-cf3fce5b06c4",
   "metadata": {},
   "outputs": [],
   "source": [
    "string=\"pwskills\""
   ]
  },
  {
   "cell_type": "code",
   "execution_count": 9,
   "id": "830dae07-ce31-4d44-a1dc-27f591c1cb5f",
   "metadata": {},
   "outputs": [
    {
     "data": {
      "text/plain": [
       "'pwskills'"
      ]
     },
     "execution_count": 9,
     "metadata": {},
     "output_type": "execute_result"
    }
   ],
   "source": [
    "string.lower()"
   ]
  },
  {
   "cell_type": "markdown",
   "id": "7057cac9-cb69-4fa1-8b81-fb139ad7c24d",
   "metadata": {},
   "source": [
    "5. Count the number of vowels in a string."
   ]
  },
  {
   "cell_type": "code",
   "execution_count": 15,
   "id": "9d7f1e50-05de-4d89-b201-19953e870153",
   "metadata": {},
   "outputs": [
    {
     "name": "stdin",
     "output_type": "stream",
     "text": [
      "Enter any string: pwskills\n"
     ]
    },
    {
     "name": "stdout",
     "output_type": "stream",
     "text": [
      "the number of vowels in a string: 1\n"
     ]
    }
   ],
   "source": [
    "string=input(\"Enter any string:\")\n",
    "string1=string.lower()\n",
    "count=0\n",
    "for i in string1:\n",
    "    if i in \"aeiou\":\n",
    "        count+=1\n",
    "print(\"the number of vowels in a string:\",count)"
   ]
  },
  {
   "cell_type": "markdown",
   "id": "d9d3eccd-0bed-4065-8144-a52340b6aaf2",
   "metadata": {},
   "source": [
    "6. Count the number of consonants in a string."
   ]
  },
  {
   "cell_type": "code",
   "execution_count": 17,
   "id": "b09c5520-3887-4513-a2f2-297d26ca5eaf",
   "metadata": {},
   "outputs": [
    {
     "name": "stdin",
     "output_type": "stream",
     "text": [
      "Enter any string: pwskills\n"
     ]
    },
    {
     "name": "stdout",
     "output_type": "stream",
     "text": [
      "the number of consonants in a string: 7\n"
     ]
    }
   ],
   "source": [
    "string=input(\"Enter any string:\")\n",
    "string1=string.lower()\n",
    "count=0\n",
    "for i in string1:\n",
    "    if i not in \"aeiou\":\n",
    "        count+=1\n",
    "print(\"the number of consonants in a string:\",count)"
   ]
  },
  {
   "cell_type": "markdown",
   "id": "7564f402-172b-4e11-837d-d53b73f3b754",
   "metadata": {},
   "source": [
    "7. Remove all whitespaces from a string."
   ]
  },
  {
   "cell_type": "code",
   "execution_count": 21,
   "id": "77b30cb3-dfaa-4a80-a8bf-cfca665ca05f",
   "metadata": {},
   "outputs": [
    {
     "name": "stdin",
     "output_type": "stream",
     "text": [
      "enter any string p  w sk i  lls\n"
     ]
    },
    {
     "data": {
      "text/plain": [
       "'pwskills'"
      ]
     },
     "execution_count": 21,
     "metadata": {},
     "output_type": "execute_result"
    }
   ],
   "source": [
    "string=input(\"enter any string\")\n",
    "new_string=string.replace(\" \",\"\")\n",
    "new_string"
   ]
  },
  {
   "cell_type": "markdown",
   "id": "a7d5c4ac-d820-49f0-8da4-e68bb772331f",
   "metadata": {},
   "source": [
    "8. Find the length of a string without using the `len()` function."
   ]
  },
  {
   "cell_type": "code",
   "execution_count": 24,
   "id": "983be4af-7f49-4ad7-a9f8-8c3e583e5849",
   "metadata": {},
   "outputs": [
    {
     "name": "stdin",
     "output_type": "stream",
     "text": [
      "enter any string: pwskills\n"
     ]
    },
    {
     "name": "stdout",
     "output_type": "stream",
     "text": [
      "length of string: 8\n"
     ]
    }
   ],
   "source": [
    "string=input(\"enter any string:\")\n",
    "count=0\n",
    "for i in string:\n",
    "    count+=1\n",
    "print(\"length of string:\",count) "
   ]
  },
  {
   "cell_type": "markdown",
   "id": "cf64dc6c-e5ed-4a48-8f59-7aa229b518a9",
   "metadata": {},
   "source": [
    "9. Check if a string contains a specific word."
   ]
  },
  {
   "cell_type": "code",
   "execution_count": 29,
   "id": "3a98ef40-c862-4a79-bb65-771dd1643d31",
   "metadata": {},
   "outputs": [
    {
     "name": "stdin",
     "output_type": "stream",
     "text": [
      "enter any string I am a student\n"
     ]
    }
   ],
   "source": [
    "string=input(\"enter any string\")"
   ]
  },
  {
   "cell_type": "code",
   "execution_count": 40,
   "id": "58b4b605-4ff4-455d-93cf-494a8666a583",
   "metadata": {},
   "outputs": [
    {
     "name": "stdout",
     "output_type": "stream",
     "text": [
      "string contains a specific word\n"
     ]
    }
   ],
   "source": [
    "if \"student\" in string:\n",
    "    print(\"string contains a specific word\")"
   ]
  },
  {
   "cell_type": "markdown",
   "id": "64f51f9f-c5e0-489d-a901-d687b1d59bc2",
   "metadata": {},
   "source": [
    "10. Replace a word in a string with another word."
   ]
  },
  {
   "cell_type": "code",
   "execution_count": 41,
   "id": "b2b2acca-fdc4-434a-8235-0c260b7b3b4a",
   "metadata": {},
   "outputs": [
    {
     "name": "stdin",
     "output_type": "stream",
     "text": [
      "Enter any string: welcome to python class\n"
     ]
    }
   ],
   "source": [
    "string=input(\"Enter any string:\")"
   ]
  },
  {
   "cell_type": "code",
   "execution_count": 42,
   "id": "38e0cbaf-2d54-40f6-8cc9-7c952e5d8cc0",
   "metadata": {},
   "outputs": [],
   "source": [
    "new_string=string.replace(\"python\",\"datascience\")"
   ]
  },
  {
   "cell_type": "code",
   "execution_count": 43,
   "id": "d4ed56b9-247f-467a-a1cc-c2571ebfd308",
   "metadata": {},
   "outputs": [
    {
     "data": {
      "text/plain": [
       "'welcome to datascience class'"
      ]
     },
     "execution_count": 43,
     "metadata": {},
     "output_type": "execute_result"
    }
   ],
   "source": [
    "new_string"
   ]
  },
  {
   "cell_type": "markdown",
   "id": "31ad6766-83e6-4586-9854-bfdd9829d674",
   "metadata": {},
   "source": [
    "11. Count the occurrences of a word in a string."
   ]
  },
  {
   "cell_type": "code",
   "execution_count": 10,
   "id": "b176dc9c-c298-4d7f-8b26-583572da0d52",
   "metadata": {},
   "outputs": [],
   "source": [
    "string=\"i am bhargavi and i am from nellore\"\n",
    "new_string=string.split()"
   ]
  },
  {
   "cell_type": "code",
   "execution_count": 11,
   "id": "7f2a7942-d18f-45c3-9089-415ec99465b8",
   "metadata": {},
   "outputs": [
    {
     "data": {
      "text/plain": [
       "2"
      ]
     },
     "execution_count": 11,
     "metadata": {},
     "output_type": "execute_result"
    }
   ],
   "source": [
    "new_string.count(\"am\")"
   ]
  },
  {
   "cell_type": "code",
   "execution_count": 12,
   "id": "147b8919-9cbc-43e3-b35b-e353676c7ba7",
   "metadata": {},
   "outputs": [
    {
     "data": {
      "text/plain": [
       "1"
      ]
     },
     "execution_count": 12,
     "metadata": {},
     "output_type": "execute_result"
    }
   ],
   "source": [
    "new_string.count(\"from\")"
   ]
  },
  {
   "cell_type": "code",
   "execution_count": 13,
   "id": "22ae058a-7ac5-412e-ae29-56e28ab57134",
   "metadata": {},
   "outputs": [
    {
     "data": {
      "text/plain": [
       "2"
      ]
     },
     "execution_count": 13,
     "metadata": {},
     "output_type": "execute_result"
    }
   ],
   "source": [
    "new_string.count(\"i\")"
   ]
  },
  {
   "cell_type": "markdown",
   "id": "8f2c4860-79bb-446f-9871-96fc4316ae4a",
   "metadata": {},
   "source": [
    "12. Find the first occurrence of a word in a string."
   ]
  },
  {
   "cell_type": "code",
   "execution_count": 16,
   "id": "53a51085-a0ff-4c2a-9e45-b3accdd0c595",
   "metadata": {},
   "outputs": [],
   "source": [
    "string=\"python is easy to learn.python is user friendly.python is object oriented language.\""
   ]
  },
  {
   "cell_type": "code",
   "execution_count": 17,
   "id": "1d3988a3-b112-447d-a79a-66ea0042532a",
   "metadata": {},
   "outputs": [
    {
     "data": {
      "text/plain": [
       "0"
      ]
     },
     "execution_count": 17,
     "metadata": {},
     "output_type": "execute_result"
    }
   ],
   "source": [
    "string.find(\"python\")"
   ]
  },
  {
   "cell_type": "markdown",
   "id": "8f33e448-7ac2-4f69-ad66-3dc953139b17",
   "metadata": {},
   "source": [
    "13. Find the last occurrence of a word in a string."
   ]
  },
  {
   "cell_type": "code",
   "execution_count": 16,
   "id": "bc42f753-dfcb-475f-b80d-5b7f9c2cd02a",
   "metadata": {},
   "outputs": [
    {
     "data": {
      "text/plain": [
       "48"
      ]
     },
     "execution_count": 16,
     "metadata": {},
     "output_type": "execute_result"
    }
   ],
   "source": [
    "string=\"python is easy to learn.python is user friendly.python is object oriented language.\"\n",
    "string.rfind(\"python\")"
   ]
  },
  {
   "cell_type": "markdown",
   "id": "fbae8794-87e1-49c8-bd78-204093e8b282",
   "metadata": {},
   "source": [
    "14. Split a string into a list of words."
   ]
  },
  {
   "cell_type": "code",
   "execution_count": 32,
   "id": "6dc4c3d4-5081-45b1-ac67-48ba01193198",
   "metadata": {},
   "outputs": [
    {
     "data": {
      "text/plain": [
       "['python', 'is', 'easy', 'to', 'learn']"
      ]
     },
     "execution_count": 32,
     "metadata": {},
     "output_type": "execute_result"
    }
   ],
   "source": [
    "string=\"python is easy to learn\"\n",
    "string.split()"
   ]
  },
  {
   "cell_type": "markdown",
   "id": "df083c87-f13f-46dc-ab01-391fb87ce5e5",
   "metadata": {},
   "source": [
    "15. Join a list of words into a string."
   ]
  },
  {
   "cell_type": "code",
   "execution_count": 1,
   "id": "a6baff09-ce5b-461c-a745-407bcbcccdc4",
   "metadata": {},
   "outputs": [
    {
     "data": {
      "text/plain": [
       "'i love python'"
      ]
     },
     "execution_count": 1,
     "metadata": {},
     "output_type": "execute_result"
    }
   ],
   "source": [
    "pylist=[\"i\",\"love\",\"python\"]\n",
    "string=\" \".join(pylist)\n",
    "string"
   ]
  },
  {
   "cell_type": "markdown",
   "id": "116a5a1d-e866-43f3-a994-07416266a335",
   "metadata": {},
   "source": [
    "16. Convert a string where words are separated by spaces to one where words are separated by underscores."
   ]
  },
  {
   "cell_type": "code",
   "execution_count": 43,
   "id": "6a40567f-c47b-4bd7-b93e-66777dd07b2e",
   "metadata": {},
   "outputs": [
    {
     "data": {
      "text/plain": [
       "'i_am_bhargavi'"
      ]
     },
     "execution_count": 43,
     "metadata": {},
     "output_type": "execute_result"
    }
   ],
   "source": [
    "string=\"i am bhargavi\"\n",
    "string.replace(\" \",\"_\")"
   ]
  },
  {
   "cell_type": "markdown",
   "id": "79c4e76c-ed0f-4793-a2ea-6c3581869e26",
   "metadata": {},
   "source": [
    "17. Check if a string starts with a specific word or phrase."
   ]
  },
  {
   "cell_type": "code",
   "execution_count": 45,
   "id": "fa8d6620-b0b4-4d8a-ace2-81f502fc583f",
   "metadata": {},
   "outputs": [
    {
     "name": "stdout",
     "output_type": "stream",
     "text": [
      "starts with the given word\n"
     ]
    }
   ],
   "source": [
    "string=\"python is programming language\"\n",
    "if string.startswith(\"python\"):\n",
    "    print(\"starts with the given word\")\n",
    "else:\n",
    "    print(\"doesnot start with given word\")"
   ]
  },
  {
   "cell_type": "code",
   "execution_count": 46,
   "id": "0287cff3-fb17-4fef-ae83-d0d3e298db64",
   "metadata": {},
   "outputs": [
    {
     "name": "stdout",
     "output_type": "stream",
     "text": [
      "doesnot start with given word\n"
     ]
    }
   ],
   "source": [
    "string=\"python is programming language\"\n",
    "if string.startswith(\"is\"):\n",
    "    print(\"starts with the given word\")\n",
    "else:\n",
    "    print(\"doesnot start with given word\")"
   ]
  },
  {
   "cell_type": "markdown",
   "id": "59515804-cd49-4589-acc7-9a61f8e21bb5",
   "metadata": {},
   "source": [
    "18. Check if a string ends with a specific word or phrase."
   ]
  },
  {
   "cell_type": "code",
   "execution_count": 47,
   "id": "be132714-3222-40c8-978a-47cb978613ab",
   "metadata": {},
   "outputs": [
    {
     "name": "stdout",
     "output_type": "stream",
     "text": [
      "ends with the given word\n"
     ]
    }
   ],
   "source": [
    "string=\"python is programming language\"\n",
    "if string.endswith(\"language\"):\n",
    "    print(\"ends with the given word\")\n",
    "else:\n",
    "    print(\"doesnot end with given word\")"
   ]
  },
  {
   "cell_type": "code",
   "execution_count": 49,
   "id": "2294c198-6b2b-432b-9ed2-73846428d180",
   "metadata": {},
   "outputs": [
    {
     "name": "stdout",
     "output_type": "stream",
     "text": [
      "doesnot end with given word\n"
     ]
    }
   ],
   "source": [
    "string=\"python is programming language\"\n",
    "if string.endswith(\"programming\"):\n",
    "    print(\"ends with the given word\")\n",
    "else:\n",
    "    print(\"doesnot end with given word\")"
   ]
  },
  {
   "cell_type": "markdown",
   "id": "064ce6e9-e64a-4f6e-9dca-4d4750d7cddc",
   "metadata": {},
   "source": [
    "19. Convert a string to title case (e.g., \"hello world\" to \"Hello World\")."
   ]
  },
  {
   "cell_type": "code",
   "execution_count": 58,
   "id": "e9b8a47d-2f88-41e5-bedb-0a03c55686f5",
   "metadata": {},
   "outputs": [
    {
     "data": {
      "text/plain": [
       "'Hello World'"
      ]
     },
     "execution_count": 58,
     "metadata": {},
     "output_type": "execute_result"
    }
   ],
   "source": [
    "string=\"hello world\"\n",
    "string.title()"
   ]
  },
  {
   "cell_type": "markdown",
   "id": "84b3d56a-6459-4fc4-8be6-c2364134ff16",
   "metadata": {},
   "source": [
    "20. Find the longest word in a string."
   ]
  },
  {
   "cell_type": "code",
   "execution_count": 71,
   "id": "36a00db4-882f-495a-a464-a3b9981d4ba9",
   "metadata": {},
   "outputs": [
    {
     "data": {
      "text/plain": [
       "'welcome'"
      ]
     },
     "execution_count": 71,
     "metadata": {},
     "output_type": "execute_result"
    }
   ],
   "source": [
    "string=\"hello welcome to python\"\n",
    "new=string.split()\n",
    "max(new,key=len)"
   ]
  },
  {
   "cell_type": "markdown",
   "id": "fddbdb2b-b22f-4a98-9355-70e6183f5c9c",
   "metadata": {},
   "source": [
    "21. Find the shortest word in a string."
   ]
  },
  {
   "cell_type": "code",
   "execution_count": 72,
   "id": "ea8f9196-b50a-4169-bf9c-75b0d1454b77",
   "metadata": {},
   "outputs": [
    {
     "data": {
      "text/plain": [
       "'to'"
      ]
     },
     "execution_count": 72,
     "metadata": {},
     "output_type": "execute_result"
    }
   ],
   "source": [
    "string=\"hello welcome to python\"\n",
    "new=string.split()\n",
    "min(new,key=len)"
   ]
  },
  {
   "cell_type": "markdown",
   "id": "04c08ecf-54d7-4ad2-af92-2ea1973b535f",
   "metadata": {},
   "source": [
    "22. Reverse the order of words in a string."
   ]
  },
  {
   "cell_type": "code",
   "execution_count": 74,
   "id": "3fa45432-44aa-45cf-813e-4feff61b3a8a",
   "metadata": {},
   "outputs": [
    {
     "data": {
      "text/plain": [
       "'ivagrahb ias'"
      ]
     },
     "execution_count": 74,
     "metadata": {},
     "output_type": "execute_result"
    }
   ],
   "source": [
    "string=\"sai bhargavi\"\n",
    "string[::-1]"
   ]
  },
  {
   "cell_type": "markdown",
   "id": "412a2aa7-4f69-4133-afe4-52d121d690ce",
   "metadata": {},
   "source": [
    "23. Check if a string is alphanumeric."
   ]
  },
  {
   "cell_type": "code",
   "execution_count": 83,
   "id": "31eb7ffc-53a1-4d7c-8c05-9c399d43cdfd",
   "metadata": {},
   "outputs": [
    {
     "data": {
      "text/plain": [
       "True"
      ]
     },
     "execution_count": 83,
     "metadata": {},
     "output_type": "execute_result"
    }
   ],
   "source": [
    "string=\"abc123\"\n",
    "string.isalnum()"
   ]
  },
  {
   "cell_type": "markdown",
   "id": "29481535-be06-40a3-a161-a66b1974749b",
   "metadata": {},
   "source": [
    "24. Extract all digits from a string."
   ]
  },
  {
   "cell_type": "code",
   "execution_count": 2,
   "id": "a8575ccd-924f-44eb-9ac6-45964a201785",
   "metadata": {},
   "outputs": [
    {
     "data": {
      "text/plain": [
       "'212002'"
      ]
     },
     "execution_count": 2,
     "metadata": {},
     "output_type": "execute_result"
    }
   ],
   "source": [
    "string=\"i am 21 yrs old.i was born on 2002\"\n",
    "new_string=\"\"\n",
    "for i in string:\n",
    "    if i.isdigit():\n",
    "        new_string+=i\n",
    "new_string        "
   ]
  },
  {
   "cell_type": "markdown",
   "id": "bab4e58b-a95c-467f-97ff-d341281a4112",
   "metadata": {},
   "source": [
    "25. Extract all alphabets from a string."
   ]
  },
  {
   "cell_type": "code",
   "execution_count": 3,
   "id": "f098b2da-581a-4048-8ca0-25666f7d09f3",
   "metadata": {},
   "outputs": [
    {
     "data": {
      "text/plain": [
       "'iamyrsoldiwasbornon'"
      ]
     },
     "execution_count": 3,
     "metadata": {},
     "output_type": "execute_result"
    }
   ],
   "source": [
    "string=\"i am 21 yrs old.i was born on 2002\"\n",
    "new_string=\"\"\n",
    "for i in string:\n",
    "    if i.isalpha():\n",
    "        new_string+=i\n",
    "new_string        "
   ]
  },
  {
   "cell_type": "markdown",
   "id": "a9ed4d54-83b0-45bf-ac16-7454a633faa6",
   "metadata": {},
   "source": [
    "26. Count the number of uppercase letters in a string."
   ]
  },
  {
   "cell_type": "code",
   "execution_count": 8,
   "id": "524d3f91-5162-4c5b-a002-43d4d199a03b",
   "metadata": {},
   "outputs": [
    {
     "name": "stdout",
     "output_type": "stream",
     "text": [
      "number of upper case letters: 2\n"
     ]
    }
   ],
   "source": [
    "string=\"Sai Bhargavi\"\n",
    "count=0\n",
    "for i in string:\n",
    "    if i.isupper():\n",
    "        count+=1\n",
    "print(\"number of upper case letters:\",count)        "
   ]
  },
  {
   "cell_type": "markdown",
   "id": "7bfcc565-50c2-434f-8e5f-f9e285c992ae",
   "metadata": {},
   "source": [
    "27. Count the number of lowercase letters in a string."
   ]
  },
  {
   "cell_type": "code",
   "execution_count": 9,
   "id": "2cce7bfa-2f8d-4802-b91e-ea8f4496fd01",
   "metadata": {},
   "outputs": [
    {
     "name": "stdout",
     "output_type": "stream",
     "text": [
      "number of lower case letters: 9\n"
     ]
    }
   ],
   "source": [
    "string=\"Sai Bhargavi\"\n",
    "count=0\n",
    "for i in string:\n",
    "    if i.islower():\n",
    "        count+=1\n",
    "print(\"number of lower case letters:\",count)        "
   ]
  },
  {
   "cell_type": "markdown",
   "id": "4e9998c5-643f-4a76-b7c2-a9fe7159e07a",
   "metadata": {},
   "source": [
    "28. Swap the case of each character in a string."
   ]
  },
  {
   "cell_type": "code",
   "execution_count": 21,
   "id": "292df58c-61ea-45bd-87c4-87cd9306a645",
   "metadata": {},
   "outputs": [
    {
     "data": {
      "text/plain": [
       "'sAI bHARGAVI'"
      ]
     },
     "execution_count": 21,
     "metadata": {},
     "output_type": "execute_result"
    }
   ],
   "source": [
    "string=\"Sai Bhargavi\"\n",
    "string.swapcase()"
   ]
  },
  {
   "cell_type": "markdown",
   "id": "0a3e11c5-2a21-4573-b76c-e076e5867c3b",
   "metadata": {},
   "source": [
    "29. Remove a specific word from a string."
   ]
  },
  {
   "cell_type": "code",
   "execution_count": 3,
   "id": "b11239fb-47c0-46b6-b0ed-877c9a320a3b",
   "metadata": {},
   "outputs": [
    {
     "data": {
      "text/plain": [
       "' is a programming language'"
      ]
     },
     "execution_count": 3,
     "metadata": {},
     "output_type": "execute_result"
    }
   ],
   "source": [
    "string=\"python is a programming language\"\n",
    "string.replace(\"python\",\"\")"
   ]
  },
  {
   "cell_type": "markdown",
   "id": "e45f949e-0455-414f-8113-1d0d1bb90b87",
   "metadata": {},
   "source": [
    "30. Check if a string is a valid email address."
   ]
  },
  {
   "cell_type": "code",
   "execution_count": 1,
   "id": "3e7c444b-23fa-4123-9a47-0cc89c5d75fd",
   "metadata": {},
   "outputs": [
    {
     "name": "stdin",
     "output_type": "stream",
     "text": [
      "enter valid email address sai@gmail.com\n"
     ]
    },
    {
     "name": "stdout",
     "output_type": "stream",
     "text": [
      "valid email address\n"
     ]
    }
   ],
   "source": [
    "string=input(\"enter valid email address\")\n",
    "import re\n",
    "pattern=r'^[\\w\\.-]+@[\\w\\.-]+\\.\\w+$'\n",
    "if re.match(pattern,string):\n",
    "    print(\"valid email address\")\n",
    "else:\n",
    "    print(\"invalid email address\")\n"
   ]
  },
  {
   "cell_type": "markdown",
   "id": "b2ad19cc-c56d-4608-ac78-07201b20978a",
   "metadata": {},
   "source": [
    "31. Extract the username from an email address string."
   ]
  },
  {
   "cell_type": "code",
   "execution_count": 10,
   "id": "c4df041a-30e3-4336-87ae-87e806c107f5",
   "metadata": {},
   "outputs": [
    {
     "name": "stdin",
     "output_type": "stream",
     "text": [
      "enter valid email address saibavya@gmail.com\n"
     ]
    },
    {
     "data": {
      "text/plain": [
       "'saibavya'"
      ]
     },
     "execution_count": 10,
     "metadata": {},
     "output_type": "execute_result"
    }
   ],
   "source": [
    "string=input(\"enter valid email address\")\n",
    "import re\n",
    "pattern=r'^[\\w\\.-]+@[\\w\\.-]+\\.\\w+$'\n",
    "username=string.split('@')[0]\n",
    "username"
   ]
  },
  {
   "cell_type": "markdown",
   "id": "08e73052-563d-4d13-92bb-f18a16074008",
   "metadata": {},
   "source": [
    "32. Extract the domain name from an email address string."
   ]
  },
  {
   "cell_type": "code",
   "execution_count": 11,
   "id": "9473366a-895b-4d21-b97b-05a36faf016d",
   "metadata": {},
   "outputs": [
    {
     "name": "stdin",
     "output_type": "stream",
     "text": [
      "enter valid email address saibavya@gmail.com\n"
     ]
    },
    {
     "data": {
      "text/plain": [
       "'gmail.com'"
      ]
     },
     "execution_count": 11,
     "metadata": {},
     "output_type": "execute_result"
    }
   ],
   "source": [
    "string=input(\"enter valid email address\")\n",
    "import re\n",
    "pattern=r'^[\\w\\.-]+@[\\w\\.-]+\\.\\w+$'\n",
    "domainname=string.split('@')[1]\n",
    "domainname"
   ]
  },
  {
   "cell_type": "markdown",
   "id": "c207f77d-5fe9-42e5-bbda-119e9715beaf",
   "metadata": {},
   "source": [
    "33. Replace multiple spaces in a string with a single space."
   ]
  },
  {
   "cell_type": "code",
   "execution_count": 31,
   "id": "9e225a75-5c84-45d1-aa14-dcf1e78ee9e1",
   "metadata": {},
   "outputs": [
    {
     "data": {
      "text/plain": [
       "'hello welcome to data sc ience course'"
      ]
     },
     "execution_count": 31,
     "metadata": {},
     "output_type": "execute_result"
    }
   ],
   "source": [
    "string=\"hello    welcome to data   sc  ience course   \"\n",
    "new_string=\" \".join(string.split())\n",
    "new_string"
   ]
  },
  {
   "cell_type": "markdown",
   "id": "e0c3dc78-fbfd-452e-b1a3-711f416bdc15",
   "metadata": {},
   "source": [
    "34. Check if a string is a valid URL."
   ]
  },
  {
   "cell_type": "code",
   "execution_count": 35,
   "id": "53c79b99-c571-455f-8853-7c09c269e272",
   "metadata": {},
   "outputs": [
    {
     "name": "stdout",
     "output_type": "stream",
     "text": [
      "valid url\n"
     ]
    }
   ],
   "source": [
    "url=\"https://www.google.com\"\n",
    "if url.startswith((\"http://\",\"https://\",\"ftp://\")):\n",
    "    print(\"valid url\")\n",
    "else:\n",
    "    print(\"invalid url\")"
   ]
  },
  {
   "cell_type": "markdown",
   "id": "2fa5a4dc-4e57-4b24-b0c9-ca3892f30242",
   "metadata": {},
   "source": [
    "35. Extract the protocol (http or https) from a URL string."
   ]
  },
  {
   "cell_type": "code",
   "execution_count": 18,
   "id": "37bc9989-4cfc-4fba-abb6-e12544583d56",
   "metadata": {},
   "outputs": [
    {
     "data": {
      "text/plain": [
       "'https'"
      ]
     },
     "execution_count": 18,
     "metadata": {},
     "output_type": "execute_result"
    }
   ],
   "source": [
    "url=\"https://www.google.com\"\n",
    "protocol=url.split(\":\")[0]\n",
    "protocol"
   ]
  },
  {
   "cell_type": "markdown",
   "id": "1563ca3f-d9c2-472e-8343-4f7b77b8f99a",
   "metadata": {},
   "source": [
    "36. Find the frequency of each character in a string."
   ]
  },
  {
   "cell_type": "code",
   "execution_count": 3,
   "id": "26e39b9e-e26e-415f-864e-80579295cece",
   "metadata": {},
   "outputs": [
    {
     "name": "stdin",
     "output_type": "stream",
     "text": [
      "enter any string saii\n"
     ]
    },
    {
     "name": "stdout",
     "output_type": "stream",
     "text": [
      "the frequency of s in a string is 1 times\n",
      "the frequency of a in a string is 1 times\n",
      "the frequency of i in a string is 2 times\n"
     ]
    }
   ],
   "source": [
    "string=input(\"enter any string\")\n",
    "char_frequency={}\n",
    "for char in string:\n",
    "    if char in char_frequency:\n",
    "        char_frequency[char]+=1\n",
    "    else:\n",
    "        char_frequency[char]=1\n",
    "for char,frequency in char_frequency.items():\n",
    "    print(\"the frequency of\",char,\"in a string is\",frequency,\"times\")"
   ]
  },
  {
   "cell_type": "markdown",
   "id": "7af8d2e2-6c30-4aa9-943e-d36b1698a199",
   "metadata": {},
   "source": [
    "37. Remove all punctuation from a string."
   ]
  },
  {
   "cell_type": "code",
   "execution_count": 4,
   "id": "2434998a-0c96-4b33-99ba-7a79a92bbbd5",
   "metadata": {},
   "outputs": [
    {
     "data": {
      "text/plain": [
       "'my fathers name is balaji'"
      ]
     },
     "execution_count": 4,
     "metadata": {},
     "output_type": "execute_result"
    }
   ],
   "source": [
    "string=\"my father's name is balaji\"\n",
    "string.replace(\"'\",\"\")"
   ]
  },
  {
   "cell_type": "markdown",
   "id": "3ce879a5-55fd-4ebe-b553-1d55fc1293fe",
   "metadata": {},
   "source": [
    "38. Check if a string contains only digits."
   ]
  },
  {
   "cell_type": "code",
   "execution_count": 37,
   "id": "970d2ab8-b43a-4ccc-956c-666d46daeb1e",
   "metadata": {},
   "outputs": [
    {
     "name": "stdout",
     "output_type": "stream",
     "text": [
      "string contains only digits\n"
     ]
    }
   ],
   "source": [
    "string=\"123\"\n",
    "if string.isdigit():\n",
    "    print(\"string contains only digits\")\n",
    "else:\n",
    "    print(\"doesnot contain only digits\")"
   ]
  },
  {
   "cell_type": "code",
   "execution_count": 38,
   "id": "eb62b550-dfa7-4e14-936d-7c628a419208",
   "metadata": {},
   "outputs": [
    {
     "name": "stdout",
     "output_type": "stream",
     "text": [
      "doesnot contain only digits\n"
     ]
    }
   ],
   "source": [
    "string=\"sai123\"\n",
    "if string.isdigit():\n",
    "    print(\"string contains only digits\")\n",
    "else:\n",
    "    print(\"doesnot contain only digits\")"
   ]
  },
  {
   "cell_type": "markdown",
   "id": "c96a4b03-3a83-48fd-8c5c-74174bec0a43",
   "metadata": {},
   "source": [
    "39. Check if a string contains only alphabets."
   ]
  },
  {
   "cell_type": "code",
   "execution_count": 39,
   "id": "59694e56-df27-4787-a6a4-7ac2ea706704",
   "metadata": {},
   "outputs": [
    {
     "name": "stdout",
     "output_type": "stream",
     "text": [
      "doesnot contain only alphabets\n"
     ]
    }
   ],
   "source": [
    "string=\"sai123\"\n",
    "if string.isalpha():\n",
    "    print(\"string contains only alphabets\")\n",
    "else:\n",
    "    print(\"doesnot contain only alphabets\")"
   ]
  },
  {
   "cell_type": "code",
   "execution_count": 40,
   "id": "36353320-e81c-4784-a950-27c12d17a7fc",
   "metadata": {},
   "outputs": [
    {
     "name": "stdout",
     "output_type": "stream",
     "text": [
      "string contains only alphabets\n"
     ]
    }
   ],
   "source": [
    "string=\"sai\"\n",
    "if string.isalpha():\n",
    "    print(\"string contains only alphabets\")\n",
    "else:\n",
    "    print(\"doesnot contain only alphabets\")"
   ]
  },
  {
   "cell_type": "markdown",
   "id": "b05a0007-8133-4f00-af9d-e68308b623ba",
   "metadata": {},
   "source": [
    "40. Convert a string to a list of characters."
   ]
  },
  {
   "cell_type": "code",
   "execution_count": 17,
   "id": "91c5ce45-f6cd-464b-a83a-dab6896735ea",
   "metadata": {},
   "outputs": [
    {
     "data": {
      "text/plain": [
       "['i', ' ', 'a', 'm', ' ', 'b', 'h', 'a', 'r', 'g', 'a', 'v', 'i']"
      ]
     },
     "execution_count": 17,
     "metadata": {},
     "output_type": "execute_result"
    }
   ],
   "source": [
    "string=\"i am bhargavi\"\n",
    "pylist=list(string)\n",
    "pylist"
   ]
  },
  {
   "cell_type": "markdown",
   "id": "db08b4e1-9c92-4fc1-9e6d-b61376a13555",
   "metadata": {},
   "source": [
    "41. Check if two strings are anagrams."
   ]
  },
  {
   "cell_type": "code",
   "execution_count": 21,
   "id": "f17881d6-7f54-4faf-8639-6d29e38afb9e",
   "metadata": {},
   "outputs": [
    {
     "name": "stdin",
     "output_type": "stream",
     "text": [
      "enter first string listen\n",
      "enter second string silent\n"
     ]
    },
    {
     "name": "stdout",
     "output_type": "stream",
     "text": [
      "strings are anagrams\n"
     ]
    }
   ],
   "source": [
    "string1=input(\"enter first string\")\n",
    "string2=input(\"enter second string\")\n",
    "s1=string1.replace(\" \",\"\").lower()\n",
    "s2=string2.replace(\" \",\"\").lower()\n",
    "if sorted(s1)==sorted(s2):\n",
    "    print(\"strings are anagrams\")\n",
    "else:\n",
    "    print(\"strings are not anagrams\")"
   ]
  },
  {
   "cell_type": "markdown",
   "id": "ce46c0a1-582d-4d2d-84dd-4632cca7764b",
   "metadata": {},
   "source": [
    "42. Encode a string using a Caesar cipher."
   ]
  },
  {
   "cell_type": "code",
   "execution_count": 1,
   "id": "6407ded0-f2d6-4953-a285-dbaf76da3ea8",
   "metadata": {},
   "outputs": [
    {
     "name": "stdin",
     "output_type": "stream",
     "text": [
      "enter text caeser cipher\n",
      "enter shift value: 2\n"
     ]
    },
    {
     "data": {
      "text/plain": [
       "'ecgugt ekrjgt'"
      ]
     },
     "execution_count": 1,
     "metadata": {},
     "output_type": "execute_result"
    }
   ],
   "source": [
    "plaintext=input(\"enter text\")                   #giving input\n",
    "shift=int(input(\"enter shift value:\"))          #give shift value\n",
    "encode_text=\"\"                                  #initializing an empty string\n",
    "for char in plaintext:                          #iterate loop through each character\n",
    "    if char.isalpha():                          #chech whether character is a letter\n",
    "        upper=char.isupper()                    #determine the character is upper case or lower case\n",
    "        char=chr(((ord(char)-ord('A' if upper else'a')+shift)%26)+ord('A' if upper else 'a'))  #use caeser cipher formula to encode\n",
    "    encode_text+=char                           #append and save in encode_text\n",
    "encode_text                                     #displaying the final encode_text"
   ]
  },
  {
   "cell_type": "markdown",
   "id": "08d3a99e-676b-4386-92c0-3a837a964304",
   "metadata": {},
   "source": [
    "43. Decode a Caesar cipher encoded string."
   ]
  },
  {
   "cell_type": "code",
   "execution_count": 2,
   "id": "6b4dbb58-b269-41c8-a45d-49288004b383",
   "metadata": {},
   "outputs": [
    {
     "name": "stdin",
     "output_type": "stream",
     "text": [
      "enter text ecgugt ekrjgt\n",
      "enter shift value: 2\n"
     ]
    },
    {
     "data": {
      "text/plain": [
       "'caeser cipher'"
      ]
     },
     "execution_count": 2,
     "metadata": {},
     "output_type": "execute_result"
    }
   ],
   "source": [
    "encode_text=input(\"enter text\")                 #giving encode text\n",
    "shift=int(input(\"enter shift value:\"))          #give shift value\n",
    "decode_text=\"\"                                  #initializing an empty string\n",
    "for char in encode_text:                        #iterate loop through each character\n",
    "    if char.isalpha():                          #chech whether character is a letter\n",
    "        upper=char.isupper()                    #determine the character is upper case or lower case\n",
    "        char=chr(((ord(char)-ord('A' if upper else'a')-shift)%26)+ord('A' if upper else 'a'))  #use caeser cipher formula to decode\n",
    "    decode_text+=char                           #append and save in decode_text\n",
    "decode_text                                     #displaying the final decode_text"
   ]
  },
  {
   "cell_type": "markdown",
   "id": "3a5ca8f4-fcd2-4ee3-87ce-5dc59484ce2b",
   "metadata": {},
   "source": [
    "44. Find the most frequent word in a string."
   ]
  },
  {
   "cell_type": "code",
   "execution_count": 10,
   "id": "68b8c27e-41b3-4866-aa61-57c1a97b07d6",
   "metadata": {},
   "outputs": [
    {
     "name": "stdin",
     "output_type": "stream",
     "text": [
      "enter any string i am very very good at python.\n"
     ]
    },
    {
     "name": "stdout",
     "output_type": "stream",
     "text": [
      "most frequent word in a string : very\n"
     ]
    }
   ],
   "source": [
    "string=input(\"enter any string\")\n",
    "words=string.lower().split()\n",
    "most_frequent_word=max(set(words),key=words.count)\n",
    "print(\"most frequent word in a string :\",most_frequent_word)"
   ]
  },
  {
   "cell_type": "markdown",
   "id": "6c3ed65d-7652-4741-84d4-343382281e16",
   "metadata": {},
   "source": [
    "45. Find all unique words in a string."
   ]
  },
  {
   "cell_type": "code",
   "execution_count": 14,
   "id": "f1ed9f07-b206-488f-830e-1dfcb2818441",
   "metadata": {},
   "outputs": [
    {
     "name": "stdin",
     "output_type": "stream",
     "text": [
      "enter any string  i am very very good in python\n"
     ]
    },
    {
     "name": "stdout",
     "output_type": "stream",
     "text": [
      "['am', 'good', 'i', 'python', 'in', 'very']\n"
     ]
    }
   ],
   "source": [
    "string=input(\"enter any string\")\n",
    "words=string.lower().split()\n",
    "unique_words=set(words)\n",
    "unique_words_list=list(unique_words)\n",
    "print(unique_words_list)\n",
    "    "
   ]
  },
  {
   "cell_type": "markdown",
   "id": "70c1d6ab-1bfc-4c8d-a415-e9732b14c8ed",
   "metadata": {},
   "source": [
    "46. Count the number of syllables in a string."
   ]
  },
  {
   "cell_type": "code",
   "execution_count": 5,
   "id": "ba16b538-fb19-4fd8-82cb-e7ffb4ccc1db",
   "metadata": {},
   "outputs": [
    {
     "name": "stdin",
     "output_type": "stream",
     "text": [
      "enter any string python\n"
     ]
    },
    {
     "name": "stdout",
     "output_type": "stream",
     "text": [
      "the string 'python' has 1 syllable(s)\n"
     ]
    }
   ],
   "source": [
    "import re\n",
    "string=input(\"enter any string\")\n",
    "vowels=\"aeiouAEIOU\"\n",
    "syllable_count=len(re.findall(r'[aeiouAEIOU]+',string))\n",
    "print(f\"the string '{string}' has {syllable_count} syllable(s)\")"
   ]
  },
  {
   "cell_type": "markdown",
   "id": "2e4e214b-0669-4c63-b1c9-8c1879fd32fb",
   "metadata": {},
   "source": [
    "47. Check if a string contains any special characters."
   ]
  },
  {
   "cell_type": "code",
   "execution_count": 34,
   "id": "32e14a75-9153-494e-920e-2c502e599b48",
   "metadata": {},
   "outputs": [
    {
     "name": "stdin",
     "output_type": "stream",
     "text": [
      "enter an string: string\n"
     ]
    },
    {
     "name": "stdout",
     "output_type": "stream",
     "text": [
      "string doesnot contains special characters\n"
     ]
    }
   ],
   "source": [
    "import re\n",
    "string=input(\"enter an string:\")\n",
    "pattern=r'[\\W]'\n",
    "if re.search(pattern,string):\n",
    "    print(\"string contains special characters\")\n",
    "else:\n",
    "    print(\"string doesnot contains special characters\")"
   ]
  },
  {
   "cell_type": "markdown",
   "id": "b85fe1dd-13b1-4aa2-8515-407268995029",
   "metadata": {},
   "source": [
    "48. Remove the nth word from a string.\n"
   ]
  },
  {
   "cell_type": "code",
   "execution_count": 36,
   "id": "f4c082d3-6645-4b48-9743-347e3ee7be2a",
   "metadata": {},
   "outputs": [
    {
     "name": "stdin",
     "output_type": "stream",
     "text": [
      "enter any string my name is sai bhargavi\n",
      "enter n value 3\n"
     ]
    },
    {
     "name": "stdout",
     "output_type": "stream",
     "text": [
      "my name is bhargavi\n"
     ]
    }
   ],
   "source": [
    "string=input(\"enter any string\")\n",
    "n=int(input(\"enter n value\"))\n",
    "words=string.split()\n",
    "if n>=0 and n<len(words):\n",
    "    del words[n]\n",
    "    new_string=' '.join(words)\n",
    "    print(new_string)\n",
    "else:\n",
    "    print(string)"
   ]
  },
  {
   "cell_type": "markdown",
   "id": "db6bff84-a32d-4949-a881-5d6b50d5bc05",
   "metadata": {},
   "source": [
    "49. Insert a word at the nth position in a string."
   ]
  },
  {
   "cell_type": "code",
   "execution_count": 39,
   "id": "38d20078-2584-493e-aee1-9a498b5ebc28",
   "metadata": {},
   "outputs": [
    {
     "name": "stdin",
     "output_type": "stream",
     "text": [
      "enter any string this is science class\n",
      "enter n value 2\n",
      "enter any word: data\n"
     ]
    },
    {
     "name": "stdout",
     "output_type": "stream",
     "text": [
      "this is data science class\n"
     ]
    }
   ],
   "source": [
    "string=input(\"enter any string\")\n",
    "n=int(input(\"enter n value\"))\n",
    "new_word=input(\"enter any word:\")\n",
    "words=string.split()\n",
    "if n>=0 and n<len(words):\n",
    "    words.insert(n,new_word)\n",
    "    new_string=' '.join(words)\n",
    "    print(new_string)\n",
    "else:   \n",
    "    print(string)"
   ]
  },
  {
   "cell_type": "markdown",
   "id": "6ef5c947-f7d5-45dd-9be8-7c129d269f96",
   "metadata": {},
   "source": [
    "50. Convert a CSV string to a list of lists.\n"
   ]
  },
  {
   "cell_type": "code",
   "execution_count": 2,
   "id": "5e38ccbc-2d00-439a-844b-a66507f5facf",
   "metadata": {},
   "outputs": [
    {
     "name": "stdout",
     "output_type": "stream",
     "text": [
      "['1', 'John', 'Doe']\n",
      "['2', 'Jane', 'Smith']\n",
      "['3', 'Bob', 'Johnson']\n"
     ]
    }
   ],
   "source": [
    "import csv\n",
    "csv_string = \"1,John,Doe\\n2,Jane,Smith\\n3,Bob,Johnson\"\n",
    "csv_reader = csv.reader(csv_string.splitlines())\n",
    "csv_data = [row for row in csv_reader]\n",
    "for row in csv_data:\n",
    "    print(row)"
   ]
  },
  {
   "cell_type": "markdown",
   "id": "200f6d44-462c-45fe-92f4-413f311cdf67",
   "metadata": {},
   "source": [
    "List Based Practice Problem :\n",
    "\n",
    "\n",
    "1. Create a list with integers from 1 to 10."
   ]
  },
  {
   "cell_type": "code",
   "execution_count": 14,
   "id": "adf8564e-d22f-4604-ac67-7840c173d31a",
   "metadata": {},
   "outputs": [
    {
     "name": "stdout",
     "output_type": "stream",
     "text": [
      "[1, 2, 3, 4, 5, 6, 7, 8, 9, 10]\n"
     ]
    }
   ],
   "source": [
    "pylist=[i for i in range(1,11)]\n",
    "print(pylist)"
   ]
  },
  {
   "cell_type": "markdown",
   "id": "972f1abe-151d-4f4b-a514-89de86ee9fdc",
   "metadata": {},
   "source": [
    "2. Find the length of a list without using the `len()` function."
   ]
  },
  {
   "cell_type": "code",
   "execution_count": 18,
   "id": "0658d925-1d70-4790-b0aa-e1a59ea41cca",
   "metadata": {},
   "outputs": [
    {
     "name": "stdout",
     "output_type": "stream",
     "text": [
      "length of the list is: 5\n"
     ]
    }
   ],
   "source": [
    "pylist=[1,2,3,4,5]\n",
    "count=0\n",
    "for i in pylist:\n",
    "    count+=1\n",
    "print(\"length of the list is:\",count)"
   ]
  },
  {
   "cell_type": "markdown",
   "id": "a7eba0d4-d531-44c3-9465-89c032825397",
   "metadata": {},
   "source": [
    "3. Append an element to the end of a list.\n"
   ]
  },
  {
   "cell_type": "code",
   "execution_count": 21,
   "id": "e4604b54-da3e-4aea-945a-130f3013183c",
   "metadata": {},
   "outputs": [
    {
     "data": {
      "text/plain": [
       "[1, 2, 3, 4, 5]"
      ]
     },
     "execution_count": 21,
     "metadata": {},
     "output_type": "execute_result"
    }
   ],
   "source": [
    "pylist=[1,2,3,4]\n",
    "pylist.append(5)\n",
    "pylist"
   ]
  },
  {
   "cell_type": "markdown",
   "id": "e310db85-a890-4265-aefe-7cc2c88c6436",
   "metadata": {},
   "source": [
    "4. Insert an element at a specific index in a list."
   ]
  },
  {
   "cell_type": "code",
   "execution_count": 23,
   "id": "e092f89e-18c4-448b-89e8-47ee0324d5c3",
   "metadata": {},
   "outputs": [
    {
     "data": {
      "text/plain": [
       "[1, 22, 2, 3, 4]"
      ]
     },
     "execution_count": 23,
     "metadata": {},
     "output_type": "execute_result"
    }
   ],
   "source": [
    "pylist=[1,2,3,4]\n",
    "pylist.insert(1,22)\n",
    "pylist"
   ]
  },
  {
   "cell_type": "markdown",
   "id": "aa240469-4651-4950-9fda-899cb81f0cfb",
   "metadata": {},
   "source": [
    "5. Remove an element from a list by its value."
   ]
  },
  {
   "cell_type": "code",
   "execution_count": 43,
   "id": "30a1d19b-1da4-49c9-863e-00d3f9a182f5",
   "metadata": {},
   "outputs": [
    {
     "data": {
      "text/plain": [
       "[10, 20, 40]"
      ]
     },
     "execution_count": 43,
     "metadata": {},
     "output_type": "execute_result"
    }
   ],
   "source": [
    "pylist=[10,20,30,40]\n",
    "pylist.remove(30)\n",
    "pylist"
   ]
  },
  {
   "cell_type": "markdown",
   "id": "d03382cc-e135-4f90-b530-5b12ef647afb",
   "metadata": {},
   "source": [
    "6. Remove an element from a list by its index."
   ]
  },
  {
   "cell_type": "code",
   "execution_count": 29,
   "id": "0167b5a2-98ad-480f-8055-9623054ff19c",
   "metadata": {},
   "outputs": [
    {
     "data": {
      "text/plain": [
       "[1, 2, 34, 56]"
      ]
     },
     "execution_count": 29,
     "metadata": {},
     "output_type": "execute_result"
    }
   ],
   "source": [
    "pylist=[1,2,34,45,56]\n",
    "pylist.pop(3)\n",
    "pylist"
   ]
  },
  {
   "cell_type": "markdown",
   "id": "14d5242b-e1db-43b8-b01f-ac0fc38af7ff",
   "metadata": {},
   "source": [
    "7. Check if an element exists in a list."
   ]
  },
  {
   "cell_type": "code",
   "execution_count": 35,
   "id": "3db99f51-6a5b-4ff2-a510-907a20d82871",
   "metadata": {},
   "outputs": [
    {
     "name": "stdout",
     "output_type": "stream",
     "text": [
      "element exists in a list\n"
     ]
    }
   ],
   "source": [
    "pylist=[1,2,3,4]\n",
    "if 2 in pylist:\n",
    "    print(\"element exists in a list\")\n",
    "else:\n",
    "    print(\"element doesnot exists in a list\")"
   ]
  },
  {
   "cell_type": "markdown",
   "id": "32001c69-f329-486d-80c8-30fbe082e098",
   "metadata": {},
   "source": [
    "8. Find the index of the first occurrence of an element in a list.\n"
   ]
  },
  {
   "cell_type": "code",
   "execution_count": 44,
   "id": "22f3ab47-6f5a-4689-8c01-1a1c25afe2ec",
   "metadata": {},
   "outputs": [
    {
     "data": {
      "text/plain": [
       "1"
      ]
     },
     "execution_count": 44,
     "metadata": {},
     "output_type": "execute_result"
    }
   ],
   "source": [
    "pylist=[1,2,3,4,2,3]\n",
    "pylist.index(2)"
   ]
  },
  {
   "cell_type": "markdown",
   "id": "2c6a1771-0b56-4aac-8661-a314e134d5eb",
   "metadata": {},
   "source": [
    "9. Count the occurrences of an element in a list."
   ]
  },
  {
   "cell_type": "code",
   "execution_count": 46,
   "id": "948911f2-6455-49dd-8492-57f49847ccba",
   "metadata": {},
   "outputs": [
    {
     "data": {
      "text/plain": [
       "3"
      ]
     },
     "execution_count": 46,
     "metadata": {},
     "output_type": "execute_result"
    }
   ],
   "source": [
    "pylist=[1,2,2,3,2,4,5,3]\n",
    "pylist.count(2)"
   ]
  },
  {
   "cell_type": "markdown",
   "id": "f9d86f0b-bf44-4e62-8b23-9bec7aea03b5",
   "metadata": {},
   "source": [
    "10. Reverse the order of elements in a list."
   ]
  },
  {
   "cell_type": "code",
   "execution_count": 51,
   "id": "6fbe562a-8daf-41ef-bccb-73b307fb5bd4",
   "metadata": {},
   "outputs": [
    {
     "data": {
      "text/plain": [
       "[4, 3, 2, 1]"
      ]
     },
     "execution_count": 51,
     "metadata": {},
     "output_type": "execute_result"
    }
   ],
   "source": [
    "pylist=[1,2,3,4]\n",
    "pylist.reverse()\n",
    "pylist"
   ]
  },
  {
   "cell_type": "markdown",
   "id": "808b6ee1-5663-4890-9762-70d7e269bcc3",
   "metadata": {},
   "source": [
    "11. Sort a list in ascending order."
   ]
  },
  {
   "cell_type": "code",
   "execution_count": 49,
   "id": "8cbc55e1-946f-4f61-80b1-e0c3c196fa98",
   "metadata": {},
   "outputs": [
    {
     "data": {
      "text/plain": [
       "[0, 2, 3, 4, 6, 7, 8]"
      ]
     },
     "execution_count": 49,
     "metadata": {},
     "output_type": "execute_result"
    }
   ],
   "source": [
    "pylist=[7,3,8,2,4,6,0]\n",
    "pylist.sort()\n",
    "pylist"
   ]
  },
  {
   "cell_type": "markdown",
   "id": "c39401f3-7f16-48ad-ba4b-e2ba7fd199c8",
   "metadata": {},
   "source": [
    "12. Sort a list in descending order."
   ]
  },
  {
   "cell_type": "code",
   "execution_count": 52,
   "id": "a4475c3a-da28-4c7e-9e8c-8b13c40b48a5",
   "metadata": {},
   "outputs": [
    {
     "data": {
      "text/plain": [
       "[8, 7, 6, 4, 3, 2, 0]"
      ]
     },
     "execution_count": 52,
     "metadata": {},
     "output_type": "execute_result"
    }
   ],
   "source": [
    "pylist=[7,3,8,2,4,6,0]\n",
    "pylist.sort(reverse=True)\n",
    "pylist"
   ]
  },
  {
   "cell_type": "markdown",
   "id": "72f1275e-ad71-4ca8-a1b9-cf953d0ab6f6",
   "metadata": {},
   "source": [
    "13. Create a list of even numbers from 1 to 20."
   ]
  },
  {
   "cell_type": "code",
   "execution_count": 60,
   "id": "471a699a-3a95-42b4-9a44-8be6c64c4d9d",
   "metadata": {},
   "outputs": [
    {
     "name": "stdout",
     "output_type": "stream",
     "text": [
      "even numbers are: [2, 4, 6, 8, 10, 12, 14, 16, 18, 20]\n"
     ]
    }
   ],
   "source": [
    "pylist=[x for x in range(2,21,2)]\n",
    "print(\"even numbers are:\",pylist)"
   ]
  },
  {
   "cell_type": "markdown",
   "id": "0379aec2-7b4b-4277-8886-6cdee2282d79",
   "metadata": {},
   "source": [
    "14. Create a list of odd numbers from 1 to 20."
   ]
  },
  {
   "cell_type": "code",
   "execution_count": 71,
   "id": "68d56bf0-8e98-438a-ac77-2f472c880256",
   "metadata": {},
   "outputs": [
    {
     "name": "stdout",
     "output_type": "stream",
     "text": [
      "odd numbers are: [1, 3, 5, 7, 9, 11, 13, 15, 17, 19]\n"
     ]
    }
   ],
   "source": [
    "pylist=[x for x in range(1,21,2)]\n",
    "print(\"odd numbers are:\",pylist)"
   ]
  },
  {
   "cell_type": "markdown",
   "id": "1784012b-01dd-4d19-b8d3-d8c12b0c6122",
   "metadata": {},
   "source": [
    "15. Find the sum of all elements in a list."
   ]
  },
  {
   "cell_type": "code",
   "execution_count": 67,
   "id": "06807d0a-9e4f-40c4-8525-77e09bedb36c",
   "metadata": {},
   "outputs": [
    {
     "name": "stdout",
     "output_type": "stream",
     "text": [
      "sum of all elements in a list: 100\n"
     ]
    }
   ],
   "source": [
    "pylist=[10,20,30,40]\n",
    "pylist1=sum(pylist)\n",
    "print(\"sum of all elements in a list:\",pylist1)"
   ]
  },
  {
   "cell_type": "markdown",
   "id": "ed08e0a2-6ab7-4a93-ba3e-a492484ec9d1",
   "metadata": {},
   "source": [
    "16. Find the maximum value in a list."
   ]
  },
  {
   "cell_type": "code",
   "execution_count": 69,
   "id": "c6f09ac8-8792-4656-8f5c-2049508d8c00",
   "metadata": {},
   "outputs": [
    {
     "name": "stdout",
     "output_type": "stream",
     "text": [
      "maximum value in a list: 8\n"
     ]
    }
   ],
   "source": [
    "pylist=[5,7,4,2,8,1,6]\n",
    "new_list=max(pylist)\n",
    "print(\"maximum value in a list:\",new_list)"
   ]
  },
  {
   "cell_type": "markdown",
   "id": "d27a53cd-a29c-4102-a119-10a3c0020169",
   "metadata": {},
   "source": [
    "17. Find the minimum value in a list."
   ]
  },
  {
   "cell_type": "code",
   "execution_count": 72,
   "id": "41d46c8d-64c9-488b-bfc9-1a0e7d4a42af",
   "metadata": {},
   "outputs": [
    {
     "name": "stdout",
     "output_type": "stream",
     "text": [
      "minimum value in a list: 1\n"
     ]
    }
   ],
   "source": [
    "pylist=[5,7,4,2,8,1,6]\n",
    "new_list=min(pylist)\n",
    "print(\"minimum value in a list:\",new_list)"
   ]
  },
  {
   "cell_type": "markdown",
   "id": "76fad8b1-34e9-45c2-b27f-fd83c0dbcc23",
   "metadata": {},
   "source": [
    "18. Create a list of squares of numbers from 1 to 10.\n"
   ]
  },
  {
   "cell_type": "code",
   "execution_count": 75,
   "id": "88952614-cb98-4682-b13a-4f59862e4dc7",
   "metadata": {},
   "outputs": [
    {
     "name": "stdout",
     "output_type": "stream",
     "text": [
      "list of squares: [1, 4, 9, 16, 25, 36, 49, 64, 81, 100]\n"
     ]
    }
   ],
   "source": [
    "pylist=[x*x for x in range(1,11)]\n",
    "print(\"list of squares:\",pylist)"
   ]
  },
  {
   "cell_type": "markdown",
   "id": "e6b5310c-1ce6-46c9-88d7-06066e11aa85",
   "metadata": {},
   "source": [
    "19. Create a list of random numbers"
   ]
  },
  {
   "cell_type": "code",
   "execution_count": 78,
   "id": "b7b056a7-4428-45b6-bdbe-3bfc3badcb37",
   "metadata": {},
   "outputs": [
    {
     "name": "stdout",
     "output_type": "stream",
     "text": [
      "list of random numbers [12, 69, 84, 76, 12, 19, 52, 42, 45, 30]\n"
     ]
    }
   ],
   "source": [
    "import random\n",
    "random_numbers=[random.randint(1,100) for i in range(10)]\n",
    "print(\"list of random numbers\",random_numbers)"
   ]
  },
  {
   "cell_type": "markdown",
   "id": "fdfb97b3-dc2c-42b7-a295-3e2a4c9cfd9e",
   "metadata": {},
   "source": [
    "20. Remove duplicates from a list."
   ]
  },
  {
   "cell_type": "code",
   "execution_count": 79,
   "id": "ac17fdc0-6673-493a-b608-f5d90beb3f6d",
   "metadata": {},
   "outputs": [
    {
     "data": {
      "text/plain": [
       "[1, 2, 3, 4, 5, 6, 7, 9]"
      ]
     },
     "execution_count": 79,
     "metadata": {},
     "output_type": "execute_result"
    }
   ],
   "source": [
    "pylist=[1,7,6,9,3,3,5,2,1,4]\n",
    "new_list=list(set(pylist))\n",
    "new_list"
   ]
  },
  {
   "cell_type": "markdown",
   "id": "43f13580-bb81-4bc7-8a52-7f3f41c93dd8",
   "metadata": {},
   "source": [
    "21. Find the common elements between two lists."
   ]
  },
  {
   "cell_type": "code",
   "execution_count": 93,
   "id": "062d7948-c004-4dd1-9370-283864624ad7",
   "metadata": {},
   "outputs": [
    {
     "name": "stdout",
     "output_type": "stream",
     "text": [
      "common elements between two lists are: [40, 20]\n"
     ]
    }
   ],
   "source": [
    "list1=[1,20,3,40]\n",
    "list2=[10,20,30,40]\n",
    "common_elements=list(set(list1).intersection(list2))\n",
    "print(\"common elements between two lists are:\",common_elements)"
   ]
  },
  {
   "cell_type": "markdown",
   "id": "6e9e687c-a4ac-49ce-a42f-528a31d3cb48",
   "metadata": {},
   "source": [
    "22. Find the difference between two lists."
   ]
  },
  {
   "cell_type": "code",
   "execution_count": 94,
   "id": "ba68b454-e656-4c86-9fcb-ae12aeaa0e17",
   "metadata": {},
   "outputs": [
    {
     "name": "stdout",
     "output_type": "stream",
     "text": [
      "difference elements between two lists are: [1, 3]\n"
     ]
    }
   ],
   "source": [
    "list1=[1,20,3,40]\n",
    "list2=[10,20,30,40]\n",
    "difference_elements=list(set(list1).difference(list2))\n",
    "print(\"difference elements between two lists are:\",difference_elements)"
   ]
  },
  {
   "cell_type": "markdown",
   "id": "21c8b55c-76ff-4d8a-8827-3b2366729c3c",
   "metadata": {},
   "source": [
    "23. Merge two lists."
   ]
  },
  {
   "cell_type": "code",
   "execution_count": 95,
   "id": "439508f9-a935-4bde-b3ad-fad17e14160f",
   "metadata": {},
   "outputs": [
    {
     "data": {
      "text/plain": [
       "[1, 20, 3, 40, 10, 20, 30, 40]"
      ]
     },
     "execution_count": 95,
     "metadata": {},
     "output_type": "execute_result"
    }
   ],
   "source": [
    "list1=[1,20,3,40]\n",
    "list2=[10,20,30,40]\n",
    "new_list=list1+list2\n",
    "new_list"
   ]
  },
  {
   "cell_type": "markdown",
   "id": "d22d7631-e70f-4676-955e-047e61a4901f",
   "metadata": {},
   "source": [
    "24. Multiply all elements in a list by 2."
   ]
  },
  {
   "cell_type": "code",
   "execution_count": 96,
   "id": "ea496dc4-2491-4853-8dcc-8cc3fb9c64e7",
   "metadata": {},
   "outputs": [
    {
     "data": {
      "text/plain": [
       "[2, 4, 6, 8]"
      ]
     },
     "execution_count": 96,
     "metadata": {},
     "output_type": "execute_result"
    }
   ],
   "source": [
    "pylist=[1,2,3,4]\n",
    "newlist=[x*2 for x in pylist]\n",
    "newlist"
   ]
  },
  {
   "cell_type": "markdown",
   "id": "a099b729-1d61-4eac-b46b-adbc582dfd04",
   "metadata": {},
   "source": [
    "25. Filter out all even numbers from a list."
   ]
  },
  {
   "cell_type": "code",
   "execution_count": 100,
   "id": "b49366a2-6c68-4bf2-874a-b71d037b685c",
   "metadata": {},
   "outputs": [
    {
     "data": {
      "text/plain": [
       "[2, 4, 6]"
      ]
     },
     "execution_count": 100,
     "metadata": {},
     "output_type": "execute_result"
    }
   ],
   "source": [
    "pylist=[1,2,3,4,5,6]\n",
    "newlist=[]\n",
    "for i in pylist:\n",
    "    if i%2==0:\n",
    "        newlist.append(i)\n",
    "    else:\n",
    "        newlist\n",
    "newlist        "
   ]
  },
  {
   "cell_type": "markdown",
   "id": "1e0a38f3-37ab-4ccd-8bff-99797b94fb25",
   "metadata": {},
   "source": [
    "26. Convert a list of strings to a list of integers."
   ]
  },
  {
   "cell_type": "code",
   "execution_count": 101,
   "id": "49881bde-7bb9-4378-b5a7-4518702f64ff",
   "metadata": {},
   "outputs": [
    {
     "data": {
      "text/plain": [
       "[10, 20, 30, 40]"
      ]
     },
     "execution_count": 101,
     "metadata": {},
     "output_type": "execute_result"
    }
   ],
   "source": [
    "l=[\"10\",\"20\",\"30\",\"40\"]\n",
    "newlist=[int(x) for x in l]\n",
    "newlist"
   ]
  },
  {
   "cell_type": "markdown",
   "id": "3670168f-40e9-4f4d-8794-a64cf3e12361",
   "metadata": {},
   "source": [
    "27. Convert a list of integers to a list of strings."
   ]
  },
  {
   "cell_type": "code",
   "execution_count": 102,
   "id": "b914ee01-051b-41f9-9f20-770ffe0bbddd",
   "metadata": {},
   "outputs": [
    {
     "data": {
      "text/plain": [
       "['10', '20', '30', '40']"
      ]
     },
     "execution_count": 102,
     "metadata": {},
     "output_type": "execute_result"
    }
   ],
   "source": [
    "l=[10,20,30,40]\n",
    "newlist=[str(x) for x in l]\n",
    "newlist"
   ]
  },
  {
   "cell_type": "markdown",
   "id": "e6809b21-a6c8-4ba1-86cd-d8d41290b737",
   "metadata": {},
   "source": [
    "28. Flatten a nested list."
   ]
  },
  {
   "cell_type": "code",
   "execution_count": 8,
   "id": "a0709209-7daf-4390-9414-7e7aa49ae9db",
   "metadata": {},
   "outputs": [
    {
     "data": {
      "text/plain": [
       "[6, 7, 8, 8, 2, 3, 4, 1, 2, 3]"
      ]
     },
     "execution_count": 8,
     "metadata": {},
     "output_type": "execute_result"
    }
   ],
   "source": [
    "pylist=[[6,7,8,8],[2,3,4],[1,2,3]]\n",
    "flattened_list=[]\n",
    "for sublist in pylist:\n",
    "    for i in sublist:\n",
    "        if isinstance(i,list):\n",
    "            flattened_list.extend(i)\n",
    "        else:\n",
    "            flattened_list.append(i)\n",
    "flattened_list"
   ]
  },
  {
   "cell_type": "markdown",
   "id": "d3f172e9-ab82-45df-b3e6-40872c90a4f5",
   "metadata": {},
   "source": [
    "29. Create a list of the first 10 Fibonacci numbers."
   ]
  },
  {
   "cell_type": "code",
   "execution_count": 6,
   "id": "d3b9f371-e934-4ba0-9df0-28772af7f99e",
   "metadata": {},
   "outputs": [
    {
     "name": "stdout",
     "output_type": "stream",
     "text": [
      "[0, 1, 1, 2, 3, 5, 8, 13, 21, 34]\n"
     ]
    }
   ],
   "source": [
    "l=[0,1]\n",
    "while len(l)<10:\n",
    "    number=l[-1]+l[-2]\n",
    "    l.append(number)\n",
    "print(l)    "
   ]
  },
  {
   "cell_type": "markdown",
   "id": "e152d7e4-c024-4fa6-b691-d02aebaf5365",
   "metadata": {},
   "source": [
    "30. Check if a list is sorted."
   ]
  },
  {
   "cell_type": "code",
   "execution_count": 27,
   "id": "9007ab53-e5c8-4c7e-8aac-ba9809cd1e4c",
   "metadata": {},
   "outputs": [
    {
     "name": "stdout",
     "output_type": "stream",
     "text": [
      "list is not sorted\n"
     ]
    }
   ],
   "source": [
    "l=[1,8,3,4,5,6]\n",
    "if l==sorted(l):\n",
    "    print(\"list is sorted\")\n",
    "else:\n",
    "    print(\"list is not sorted\")\n"
   ]
  },
  {
   "cell_type": "markdown",
   "id": "5f3e214d-d623-49ce-aab1-f04ab7a8c812",
   "metadata": {},
   "source": [
    "31. Rotate a list to the left by `n` positions."
   ]
  },
  {
   "cell_type": "code",
   "execution_count": 28,
   "id": "bdb6f1ab-3d2a-4377-946b-4d9f75fef927",
   "metadata": {},
   "outputs": [
    {
     "name": "stdout",
     "output_type": "stream",
     "text": [
      "[3, 4, 5, 1, 2]\n"
     ]
    }
   ],
   "source": [
    "original_list = [1, 2, 3, 4, 5]\n",
    "n = 2\n",
    "n = n % len(original_list)\n",
    "if len(original_list) > 0 and n > 0:\n",
    "    rotated_list = original_list[n:] + original_list[:n]\n",
    "else:\n",
    "    rotated_list = original_list \n",
    "print(rotated_list)"
   ]
  },
  {
   "cell_type": "markdown",
   "id": "c7fd1bb8-21f4-4a1c-a807-4a651d5ca566",
   "metadata": {},
   "source": [
    "32. Rotate a list to the right by `n` positions."
   ]
  },
  {
   "cell_type": "code",
   "execution_count": 30,
   "id": "e48e660a-0f8d-4cd4-a8eb-d306179637d6",
   "metadata": {},
   "outputs": [
    {
     "name": "stdout",
     "output_type": "stream",
     "text": [
      "[4, 5, 1, 2, 3]\n"
     ]
    }
   ],
   "source": [
    "original_list = [1, 2, 3, 4, 5]\n",
    "n = 2\n",
    "n = n % len(original_list)\n",
    "if len(original_list) > 0 and n > 0:\n",
    "    rotated_list = original_list[-n:] + original_list[:-n]\n",
    "else:\n",
    "    rotated_list = original_list \n",
    "print(rotated_list)"
   ]
  },
  {
   "cell_type": "markdown",
   "id": "e616cb92-1177-4d57-b0d5-408093ea1303",
   "metadata": {},
   "source": [
    "33. Create a list of prime numbers up to 50."
   ]
  },
  {
   "cell_type": "code",
   "execution_count": 37,
   "id": "d96c22c7-f579-4d87-a1e3-a0f12dfd28ff",
   "metadata": {},
   "outputs": [
    {
     "data": {
      "text/plain": [
       "[2, 3, 5, 7, 11, 13, 17, 19, 23, 29, 31, 37, 41, 43, 47]"
      ]
     },
     "execution_count": 37,
     "metadata": {},
     "output_type": "execute_result"
    }
   ],
   "source": [
    "l=[]\n",
    "n=50\n",
    "for i in range(2,n+1):\n",
    "    for j in range(2,n+1):\n",
    "        if i%j==0:\n",
    "            break\n",
    "    if i==j:\n",
    "        l.append(i)\n",
    "l        "
   ]
  },
  {
   "cell_type": "markdown",
   "id": "0e428c1e-3e98-4d04-ad98-da0b359487e7",
   "metadata": {},
   "source": [
    "34. Split a list into chunks of size `n`."
   ]
  },
  {
   "cell_type": "code",
   "execution_count": 38,
   "id": "2bdb8ff0-fb9f-4003-ab54-3572076cf752",
   "metadata": {},
   "outputs": [
    {
     "name": "stdout",
     "output_type": "stream",
     "text": [
      "[[1, 2, 3], [4, 5, 6], [7, 8, 9]]\n"
     ]
    }
   ],
   "source": [
    "original_list = [1, 2, 3, 4, 5, 6, 7, 8, 9]\n",
    "chunk_size = 3\n",
    "\n",
    "chunked_list = []\n",
    "\n",
    "for i in range(0, len(original_list), chunk_size):\n",
    "    chunk = original_list[i:i + chunk_size]\n",
    "    chunked_list.append(chunk)\n",
    "\n",
    "print(chunked_list)"
   ]
  },
  {
   "cell_type": "markdown",
   "id": "e5218bb8-1545-4e41-a09c-a0b286b5d858",
   "metadata": {},
   "source": [
    "35. Find the second largest number in a list."
   ]
  },
  {
   "cell_type": "code",
   "execution_count": 40,
   "id": "5b732c14-f0c9-4777-9775-1c57a160e418",
   "metadata": {},
   "outputs": [
    {
     "data": {
      "text/plain": [
       "[1, 2, 3, 4, 5, 6, 7]"
      ]
     },
     "execution_count": 40,
     "metadata": {},
     "output_type": "execute_result"
    }
   ],
   "source": [
    "l=[2,4,5,3,6,1,7]\n",
    "l.sort()\n",
    "print(l[-2]"
   ]
  },
  {
   "cell_type": "markdown",
   "id": "8812db7e-eae4-4556-a890-2862fe163481",
   "metadata": {},
   "source": [
    "36. Replace every element in a list with its square."
   ]
  },
  {
   "cell_type": "code",
   "execution_count": 3,
   "id": "df36cbfe-35cc-498d-a95b-c3659326fcb2",
   "metadata": {},
   "outputs": [
    {
     "data": {
      "text/plain": [
       "[1, 4, 9, 16, 25]"
      ]
     },
     "execution_count": 3,
     "metadata": {},
     "output_type": "execute_result"
    }
   ],
   "source": [
    "pylist=[1,2,3,4,5]\n",
    "square_list=[x**2 for x in pylist]\n",
    "square_list"
   ]
  },
  {
   "cell_type": "markdown",
   "id": "7c5b8df3-9f6c-4fa7-986f-58b25ef579ed",
   "metadata": {},
   "source": [
    "37. Convert a list to a dictionary where list elements become keys and their\n",
    "indices become values."
   ]
  },
  {
   "cell_type": "code",
   "execution_count": 1,
   "id": "bae3e090-7dd4-43a6-8605-0a1716ea3215",
   "metadata": {},
   "outputs": [
    {
     "name": "stdout",
     "output_type": "stream",
     "text": [
      "{'apple': 0, 'banana': 1, 'cherry': 2, 'date': 3}\n"
     ]
    }
   ],
   "source": [
    "original_list = ['apple', 'banana', 'cherry', 'date']\n",
    "result_dict = {}\n",
    "for index, element in enumerate(original_list):\n",
    "    result_dict[element] = index\n",
    "print(result_dict)"
   ]
  },
  {
   "cell_type": "markdown",
   "id": "610a8c7a-5bce-4d1c-8a7f-53fa031ce274",
   "metadata": {},
   "source": [
    "38. Shuffle the elements of a list randomly."
   ]
  },
  {
   "cell_type": "code",
   "execution_count": 3,
   "id": "d7a83be2-d09e-40e7-9dc2-90a95d9cf498",
   "metadata": {},
   "outputs": [
    {
     "name": "stdout",
     "output_type": "stream",
     "text": [
      "[3, 7, 4, 2, 8, 5, 9, 6, 1]\n"
     ]
    }
   ],
   "source": [
    "import random\n",
    "original_list = [1, 2, 3, 4, 5, 6, 7, 8, 9]\n",
    "shuffled_list = original_list[:]  \n",
    "random.shuffle(shuffled_list) \n",
    "print(shuffled_list)"
   ]
  },
  {
   "cell_type": "markdown",
   "id": "2fb78acc-ef1b-4b58-82c7-467506353a26",
   "metadata": {},
   "source": [
    "39. Create a list of the first 10 factorial numbers."
   ]
  },
  {
   "cell_type": "code",
   "execution_count": 4,
   "id": "01f4f1ed-40d1-44b9-97ca-80c7ff53a031",
   "metadata": {},
   "outputs": [
    {
     "name": "stdout",
     "output_type": "stream",
     "text": [
      "[1, 1, 2, 6, 24, 120, 720, 5040, 40320, 362880]\n"
     ]
    }
   ],
   "source": [
    "factorial_list = []\n",
    "for n in range(10):\n",
    "    factorial = 1\n",
    "    for i in range(1, n + 1):\n",
    "        factorial *= i\n",
    "    factorial_list.append(factorial)\n",
    "print(factorial_list)"
   ]
  },
  {
   "cell_type": "markdown",
   "id": "21b25450-42ca-47a1-9162-88770a8981b0",
   "metadata": {},
   "source": [
    "40. Check if two lists have at least one element in common."
   ]
  },
  {
   "cell_type": "code",
   "execution_count": 19,
   "id": "130f33d0-1c10-47b3-b68f-624b4e013f4d",
   "metadata": {},
   "outputs": [
    {
     "name": "stdout",
     "output_type": "stream",
     "text": [
      "The lists have at least one common element.\n"
     ]
    }
   ],
   "source": [
    "list1 = [1, 2, 3, 4, 5]\n",
    "list2 = [6, 7, 8, 9, 5]\n",
    "for element1 in list1:\n",
    "    for element2 in list2:\n",
    "        if element1 == element2:\n",
    "            print(\"The lists have at least one common element.\")\n",
    "            break  \n",
    "    else:\n",
    "        continue  \n",
    "    break\n",
    "else:\n",
    "    print(\"The lists have no common elements.\")"
   ]
  },
  {
   "cell_type": "markdown",
   "id": "099a41d8-1d97-42dd-acd7-125dbb283069",
   "metadata": {},
   "source": [
    "41. Remove all elements from a list."
   ]
  },
  {
   "cell_type": "code",
   "execution_count": 21,
   "id": "31fb0f97-1ed4-43fb-ab11-1fb46adf00f4",
   "metadata": {},
   "outputs": [
    {
     "data": {
      "text/plain": [
       "[]"
      ]
     },
     "execution_count": 21,
     "metadata": {},
     "output_type": "execute_result"
    }
   ],
   "source": [
    "py_list = [1, 2, 3, 4, 5]\n",
    "py_list.clear()\n",
    "py_list"
   ]
  },
  {
   "cell_type": "markdown",
   "id": "2d4baef4-e846-457e-84a6-dd9beeebabf0",
   "metadata": {},
   "source": [
    "42. Replace negative numbers in a list with 0."
   ]
  },
  {
   "cell_type": "code",
   "execution_count": 22,
   "id": "5d6ef83f-6051-415c-b748-8b3b868bd974",
   "metadata": {},
   "outputs": [
    {
     "name": "stdout",
     "output_type": "stream",
     "text": [
      "[1, 0, 3, 0, 5]\n"
     ]
    }
   ],
   "source": [
    "py_list = [1, -2, 3, -4, 5]\n",
    "\n",
    "for i in range(len(py_list)):\n",
    "    if py_list[i] < 0:\n",
    "        py_list[i] = 0\n",
    "\n",
    "print(py_list)"
   ]
  },
  {
   "cell_type": "markdown",
   "id": "7bd5e226-9537-4aa1-9072-4c0fe5bb011d",
   "metadata": {},
   "source": [
    "43. Convert a string into a list of words."
   ]
  },
  {
   "cell_type": "code",
   "execution_count": 27,
   "id": "15701061-5fca-4835-9939-66f653e43a98",
   "metadata": {},
   "outputs": [
    {
     "data": {
      "text/plain": [
       "['i', 'am', 'sai', 'bhargavi']"
      ]
     },
     "execution_count": 27,
     "metadata": {},
     "output_type": "execute_result"
    }
   ],
   "source": [
    "string=\"i am sai bhargavi\"\n",
    "string.split()"
   ]
  },
  {
   "cell_type": "markdown",
   "id": "748f94f4-53a7-4322-9e37-3f37a363cea6",
   "metadata": {},
   "source": [
    "44. Convert a list of words into a string."
   ]
  },
  {
   "cell_type": "code",
   "execution_count": 30,
   "id": "ac45e750-a341-4b31-a736-86d09ec9367d",
   "metadata": {},
   "outputs": [
    {
     "data": {
      "text/plain": [
       "'This is data science class'"
      ]
     },
     "execution_count": 30,
     "metadata": {},
     "output_type": "execute_result"
    }
   ],
   "source": [
    "word_list = [\"This\", \"is\", \"data\", \"science\", \"class\"]\n",
    "string = \" \".join(word_list)\n",
    "string"
   ]
  },
  {
   "cell_type": "markdown",
   "id": "82104a71-65c6-40da-8b35-2223b10e8207",
   "metadata": {},
   "source": [
    "45. Create a list of the first `n` powers of 2."
   ]
  },
  {
   "cell_type": "code",
   "execution_count": 31,
   "id": "ca736de1-ca99-4036-a4b8-d8f16d6dcba7",
   "metadata": {},
   "outputs": [
    {
     "name": "stdout",
     "output_type": "stream",
     "text": [
      "[1, 2, 4, 8, 16]\n"
     ]
    }
   ],
   "source": [
    "n = 5 \n",
    "powers_of_2 = []\n",
    "for i in range(n):\n",
    "    powers_of_2.append(2 ** i)\n",
    "print(powers_of_2)"
   ]
  },
  {
   "cell_type": "markdown",
   "id": "a53ca909-b519-4472-80af-9a4fc2b67d18",
   "metadata": {},
   "source": [
    "46. Find the longest string in a list of strings."
   ]
  },
  {
   "cell_type": "code",
   "execution_count": 35,
   "id": "f9cc2d62-7eff-46b1-87bf-bea5b12226f2",
   "metadata": {},
   "outputs": [
    {
     "name": "stdout",
     "output_type": "stream",
     "text": [
      "Longest string: datascience\n"
     ]
    }
   ],
   "source": [
    "string_list = [\"python\", \"java\", \"c\", \"dotnet\", \"datascience\"]\n",
    "longest_string = max(string_list, key=len)\n",
    "print(\"Longest string:\", longest_string)"
   ]
  },
  {
   "cell_type": "markdown",
   "id": "c1ca5aac-4b35-4e79-9411-100f45008d1c",
   "metadata": {},
   "source": [
    "47. Find the shortest string in a list of strings."
   ]
  },
  {
   "cell_type": "code",
   "execution_count": 38,
   "id": "a5e0c274-6ece-4457-9ba8-e4fe5ac75a33",
   "metadata": {},
   "outputs": [
    {
     "name": "stdout",
     "output_type": "stream",
     "text": [
      "shortest string: c\n"
     ]
    }
   ],
   "source": [
    "string_list = [\"python\", \"java\", \"c\", \"dotnet\", \"datascience\"]\n",
    "shortest_string = min(string_list, key=len)\n",
    "print(\"shortest string:\", shortest_string)"
   ]
  },
  {
   "cell_type": "markdown",
   "id": "b5a9f06d-78ec-437d-8948-f31ad3334fce",
   "metadata": {},
   "source": [
    "48. Create a list of the first `n` triangular numbers."
   ]
  },
  {
   "cell_type": "code",
   "execution_count": 14,
   "id": "15e816f2-508c-4c4c-865f-43fab82dd1e3",
   "metadata": {},
   "outputs": [
    {
     "name": "stdout",
     "output_type": "stream",
     "text": [
      "[1, 3, 6, 10, 15]\n"
     ]
    }
   ],
   "source": [
    "n = 5\n",
    "triangular_numbers = []\n",
    "for i in range(1, n + 1):\n",
    "    triangular_number = (i * (i + 1)) // 2\n",
    "    triangular_numbers.append(triangular_number)\n",
    "print(triangular_numbers)"
   ]
  },
  {
   "cell_type": "markdown",
   "id": "521232e6-2f4b-403d-b134-ddcd890736de",
   "metadata": {},
   "source": [
    "49. Check if a list contains another list as a subsequence."
   ]
  },
  {
   "cell_type": "code",
   "execution_count": 15,
   "id": "233f4c10-97a9-44d7-92d2-34b7c9adc494",
   "metadata": {},
   "outputs": [
    {
     "name": "stdout",
     "output_type": "stream",
     "text": [
      "The sub_list is a subsequence of the main_list.\n"
     ]
    }
   ],
   "source": [
    "main_list = [1, 2, 3, 4, 5, 6, 7, 8]\n",
    "sub_list = [3, 5, 7]\n",
    "\n",
    "is_subsequence = set(sub_list).issubset(main_list)\n",
    "\n",
    "if is_subsequence:\n",
    "    print(\"The sub_list is a subsequence of the main_list.\")\n",
    "else:\n",
    "    print(\"The sub_list is not a subsequence of the main_list.\")"
   ]
  },
  {
   "cell_type": "markdown",
   "id": "5c4afa59-4245-481d-8f3d-d1353848cd58",
   "metadata": {},
   "source": [
    "50. Swap two elements in a list by their indices."
   ]
  },
  {
   "cell_type": "code",
   "execution_count": 16,
   "id": "9a68956d-c236-427c-8301-fc4125954ef0",
   "metadata": {},
   "outputs": [
    {
     "name": "stdout",
     "output_type": "stream",
     "text": [
      "[10, 40, 30, 20, 50]\n"
     ]
    }
   ],
   "source": [
    "my_list = [10, 20, 30, 40, 50]\n",
    "my_list[1], my_list[3] = my_list[3], my_list[1]\n",
    "print(my_list)  "
   ]
  },
  {
   "cell_type": "markdown",
   "id": "e8252bfc-3089-46da-9a23-3e1767545c2a",
   "metadata": {},
   "source": [
    "Tuple Based Practice Problem :"
   ]
  },
  {
   "cell_type": "markdown",
   "id": "c74f42ff-ba41-40a3-907a-67cbe032d3a3",
   "metadata": {},
   "source": [
    "1. Create a tuple with integers from 1 to 5."
   ]
  },
  {
   "cell_type": "code",
   "execution_count": 53,
   "id": "ac96434d-5195-4dbb-b5ce-95daa3bfb56c",
   "metadata": {},
   "outputs": [
    {
     "data": {
      "text/plain": [
       "(1, 2, 3, 4, 5)"
      ]
     },
     "execution_count": 53,
     "metadata": {},
     "output_type": "execute_result"
    }
   ],
   "source": [
    "tup=(1,2,3,4,5)\n",
    "tup"
   ]
  },
  {
   "cell_type": "markdown",
   "id": "db521e4b-688a-4e3c-af3b-ba78fc0daac5",
   "metadata": {},
   "source": [
    "2. Access the third element of a tuple."
   ]
  },
  {
   "cell_type": "code",
   "execution_count": 54,
   "id": "d14d4652-c5e3-475f-98d9-58263e8351a5",
   "metadata": {},
   "outputs": [
    {
     "data": {
      "text/plain": [
       "3"
      ]
     },
     "execution_count": 54,
     "metadata": {},
     "output_type": "execute_result"
    }
   ],
   "source": [
    "tup=(1,2,3,4,5)\n",
    "tup[2]"
   ]
  },
  {
   "cell_type": "markdown",
   "id": "19ede50e-868b-4d95-bf50-33a8c7724818",
   "metadata": {},
   "source": [
    "3. Find the length of a tuple without using the `len()` function."
   ]
  },
  {
   "cell_type": "code",
   "execution_count": 55,
   "id": "e979d0a7-8ff6-4b4b-9efe-01efdaf8a170",
   "metadata": {},
   "outputs": [
    {
     "data": {
      "text/plain": [
       "5"
      ]
     },
     "execution_count": 55,
     "metadata": {},
     "output_type": "execute_result"
    }
   ],
   "source": [
    "tup=(10,20,30,40,50)\n",
    "count=0\n",
    "for i in tup:\n",
    "    count+=1\n",
    "count    "
   ]
  },
  {
   "cell_type": "markdown",
   "id": "70b81d50-87a5-4950-9d67-6eeeb4dac10d",
   "metadata": {},
   "source": [
    "4. Count the occurrences of an element in a tuple."
   ]
  },
  {
   "cell_type": "code",
   "execution_count": 56,
   "id": "1a76094a-dab3-4607-ae99-15871769bdb0",
   "metadata": {},
   "outputs": [
    {
     "data": {
      "text/plain": [
       "3"
      ]
     },
     "execution_count": 56,
     "metadata": {},
     "output_type": "execute_result"
    }
   ],
   "source": [
    "tup=(1,7,4,2,4,6,4)\n",
    "tup.count(4)"
   ]
  },
  {
   "cell_type": "markdown",
   "id": "7b1f9d1c-8ab9-467c-9b0d-c91098b55d9b",
   "metadata": {},
   "source": [
    "5. Find the index of the first occurrence of an element in a tuple."
   ]
  },
  {
   "cell_type": "code",
   "execution_count": 57,
   "id": "bd369f07-7f76-4f5b-a4f1-0f0f270f9df8",
   "metadata": {},
   "outputs": [
    {
     "data": {
      "text/plain": [
       "2"
      ]
     },
     "execution_count": 57,
     "metadata": {},
     "output_type": "execute_result"
    }
   ],
   "source": [
    "tup=(1,7,4,2,4,6,4)\n",
    "tup.index(4)"
   ]
  },
  {
   "cell_type": "markdown",
   "id": "2796e72f-41c6-4d54-aa54-a01f52b39b0b",
   "metadata": {},
   "source": [
    "6. Check if an element exists in a tuple."
   ]
  },
  {
   "cell_type": "code",
   "execution_count": 58,
   "id": "8d1f96ee-a82e-4e96-9924-7f1809f2c47d",
   "metadata": {},
   "outputs": [
    {
     "name": "stdout",
     "output_type": "stream",
     "text": [
      "elememt exists\n"
     ]
    }
   ],
   "source": [
    "tup=(1,3,5,6,8)\n",
    "if 3 in tup:\n",
    "    print(\"elememt exists\")\n",
    "else:\n",
    "    print(\"element doesnot exists\")"
   ]
  },
  {
   "cell_type": "markdown",
   "id": "e3c8217c-a027-41c4-9937-ab54d11de229",
   "metadata": {},
   "source": [
    "7. Convert a tuple to a list."
   ]
  },
  {
   "cell_type": "code",
   "execution_count": 59,
   "id": "5444824d-d913-4f53-8075-dde1e9bd6f3e",
   "metadata": {},
   "outputs": [
    {
     "data": {
      "text/plain": [
       "[2, 4, 6, 8]"
      ]
     },
     "execution_count": 59,
     "metadata": {},
     "output_type": "execute_result"
    }
   ],
   "source": [
    "tup=(2,4,6,8)\n",
    "new_tuple=list(tup)\n",
    "new_tuple"
   ]
  },
  {
   "cell_type": "markdown",
   "id": "083d82d9-b3e8-42ea-b5e7-c1cf7780511e",
   "metadata": {},
   "source": [
    "8. Convert a list to a tuple."
   ]
  },
  {
   "cell_type": "code",
   "execution_count": 60,
   "id": "66629970-d342-461a-be2f-687ada1cd55d",
   "metadata": {},
   "outputs": [
    {
     "data": {
      "text/plain": [
       "(1, 2, 3, 4)"
      ]
     },
     "execution_count": 60,
     "metadata": {},
     "output_type": "execute_result"
    }
   ],
   "source": [
    "pylist=[1,2,3,4]\n",
    "tup=tuple(pylist)\n",
    "tup"
   ]
  },
  {
   "cell_type": "markdown",
   "id": "b38bfabb-da24-4528-bb78-57543f987427",
   "metadata": {},
   "source": [
    "9. Unpack the elements of a tuple into variables."
   ]
  },
  {
   "cell_type": "code",
   "execution_count": 61,
   "id": "bfcd3804-3d50-4596-ad2e-435b1dabf4f0",
   "metadata": {},
   "outputs": [
    {
     "name": "stdout",
     "output_type": "stream",
     "text": [
      "10\n",
      "20\n",
      "30\n"
     ]
    }
   ],
   "source": [
    "tup=(10, 20, 30)\n",
    "var1, var2, var3 = tup\n",
    "print(var1)  \n",
    "print(var2)  \n",
    "print(var3)  "
   ]
  },
  {
   "cell_type": "markdown",
   "id": "cbd017f9-efdb-4072-95b3-82e8376f66aa",
   "metadata": {},
   "source": [
    "10. Create a tuple of even numbers from 1 to 10."
   ]
  },
  {
   "cell_type": "code",
   "execution_count": 62,
   "id": "40d9bf51-c6a4-4b9b-9926-faa33007cb07",
   "metadata": {},
   "outputs": [
    {
     "data": {
      "text/plain": [
       "(2, 4, 6, 8, 10)"
      ]
     },
     "execution_count": 62,
     "metadata": {},
     "output_type": "execute_result"
    }
   ],
   "source": [
    "pylist=[x for x in range(2,11,2)]\n",
    "tup=tuple(pylist)\n",
    "tup"
   ]
  },
  {
   "cell_type": "markdown",
   "id": "36ac68d1-88d2-4961-9ab7-91716ffed7c0",
   "metadata": {},
   "source": [
    "11. Create a tuple of odd numbers from 1 to 10."
   ]
  },
  {
   "cell_type": "code",
   "execution_count": 63,
   "id": "fe76d4b5-7058-4347-909d-ec326cad1546",
   "metadata": {},
   "outputs": [
    {
     "data": {
      "text/plain": [
       "(1, 3, 5, 7, 9)"
      ]
     },
     "execution_count": 63,
     "metadata": {},
     "output_type": "execute_result"
    }
   ],
   "source": [
    "pylist=[x for x in range(1,11,2)]\n",
    "tup=tuple(pylist)\n",
    "tup"
   ]
  },
  {
   "cell_type": "markdown",
   "id": "01ecbc69-b817-48ff-b465-1dc4b50938d7",
   "metadata": {},
   "source": [
    "12. Concatenate two tuples."
   ]
  },
  {
   "cell_type": "code",
   "execution_count": 64,
   "id": "321ff804-2ef6-46aa-a5f4-34d752e0b3e6",
   "metadata": {},
   "outputs": [
    {
     "data": {
      "text/plain": [
       "(1, 2, 3, 4, 5, 6)"
      ]
     },
     "execution_count": 64,
     "metadata": {},
     "output_type": "execute_result"
    }
   ],
   "source": [
    "tup1=(1,2,3)\n",
    "tup2=(4,5,6)\n",
    "tup1+tup2"
   ]
  },
  {
   "cell_type": "markdown",
   "id": "a5a3b954-10ac-4e3c-a0a6-4da43cb7eea4",
   "metadata": {},
   "source": [
    "13. Repeat a tuple three times."
   ]
  },
  {
   "cell_type": "code",
   "execution_count": 65,
   "id": "4ce59088-7263-427c-affe-570d7fd0c352",
   "metadata": {},
   "outputs": [
    {
     "data": {
      "text/plain": [
       "(1, 2, 3, 4, 1, 2, 3, 4, 1, 2, 3, 4)"
      ]
     },
     "execution_count": 65,
     "metadata": {},
     "output_type": "execute_result"
    }
   ],
   "source": [
    "tup=(1,2,3,4)\n",
    "tup*3"
   ]
  },
  {
   "cell_type": "markdown",
   "id": "d453ac43-3af1-4b34-857d-c12b2c7cebd7",
   "metadata": {},
   "source": [
    "14. Check if a tuple is empty."
   ]
  },
  {
   "cell_type": "code",
   "execution_count": 66,
   "id": "e48c1ae9-f3b3-43ef-901c-cf128f0b26a9",
   "metadata": {},
   "outputs": [
    {
     "name": "stdout",
     "output_type": "stream",
     "text": [
      "The tuple is empty.\n"
     ]
    }
   ],
   "source": [
    "my_tuple = ()\n",
    "if len(my_tuple) == 0:\n",
    "    print(\"The tuple is empty.\")\n",
    "else:\n",
    "    print(\"The tuple is not empty.\")"
   ]
  },
  {
   "cell_type": "markdown",
   "id": "03adbecb-8351-4204-95e4-5aca01ec6d21",
   "metadata": {},
   "source": [
    "15. Create a nested tuple."
   ]
  },
  {
   "cell_type": "code",
   "execution_count": 67,
   "id": "0d9c4982-a222-417d-a674-73fe86dc3b3a",
   "metadata": {},
   "outputs": [
    {
     "name": "stdout",
     "output_type": "stream",
     "text": [
      "nested list: ((1, 2, 3), (4, 5, 6), (7, 8, 9))\n"
     ]
    }
   ],
   "source": [
    "tup=((1,2,3),(4,5,6),(7,8,9))\n",
    "print(\"nested list:\",tup)"
   ]
  },
  {
   "cell_type": "markdown",
   "id": "15396656-578a-4e29-a41e-8026fa1c0b7f",
   "metadata": {},
   "source": [
    "16. Access the first element of a nested tuple."
   ]
  },
  {
   "cell_type": "code",
   "execution_count": 68,
   "id": "974b07da-2865-4b82-a2a8-d13e1f3a8f51",
   "metadata": {},
   "outputs": [
    {
     "data": {
      "text/plain": [
       "(1, 2, 3)"
      ]
     },
     "execution_count": 68,
     "metadata": {},
     "output_type": "execute_result"
    }
   ],
   "source": [
    "tup=((1,2,3),(4,5,6),(7,8,9))\n",
    "tup[0]"
   ]
  },
  {
   "cell_type": "markdown",
   "id": "c10670a8-59a3-4c1c-8f4c-bd49068ddfe2",
   "metadata": {},
   "source": [
    "17. Create a tuple with a single element."
   ]
  },
  {
   "cell_type": "code",
   "execution_count": 69,
   "id": "41a3e154-6abc-4e47-b533-c56274fccdab",
   "metadata": {},
   "outputs": [
    {
     "data": {
      "text/plain": [
       "(1,)"
      ]
     },
     "execution_count": 69,
     "metadata": {},
     "output_type": "execute_result"
    }
   ],
   "source": [
    "tup=(1,)\n",
    "tup"
   ]
  },
  {
   "cell_type": "markdown",
   "id": "fd1ddbd7-fb9f-4679-a6ef-c72318321bc0",
   "metadata": {},
   "source": [
    "18. Compare two tuples."
   ]
  },
  {
   "cell_type": "code",
   "execution_count": 70,
   "id": "5d87ead3-23b5-4a31-8f82-acd007b1dba7",
   "metadata": {},
   "outputs": [
    {
     "name": "stdout",
     "output_type": "stream",
     "text": [
      "tuple1 == tuple2: False\n",
      "tuple1 != tuple2: True\n",
      "tuple1 < tuple2: True\n",
      "tuple1 <= tuple2: True\n",
      "tuple1 > tuple2: False\n",
      "tuple1 >= tuple2: False\n"
     ]
    }
   ],
   "source": [
    "tuple1=(1,2,3,4,5)\n",
    "tuple2=(2,3,4,5,6)\n",
    "print(\"tuple1 == tuple2:\", tuple1 == tuple2)  \n",
    "print(\"tuple1 != tuple2:\", tuple1 != tuple2)  \n",
    "print(\"tuple1 < tuple2:\", tuple1 < tuple2)    \n",
    "print(\"tuple1 <= tuple2:\", tuple1 <= tuple2)  \n",
    "print(\"tuple1 > tuple2:\", tuple1 > tuple2)    \n",
    "print(\"tuple1 >= tuple2:\", tuple1 >= tuple2)  "
   ]
  },
  {
   "cell_type": "markdown",
   "id": "26f7d578-088e-406b-9853-053a2ee8030d",
   "metadata": {},
   "source": [
    "19. Delete a tuple."
   ]
  },
  {
   "cell_type": "code",
   "execution_count": 71,
   "id": "3116c821-38e1-4bf0-840c-12c7d820a1e5",
   "metadata": {},
   "outputs": [],
   "source": [
    "tup=(1,2,3,4)\n",
    "del tup"
   ]
  },
  {
   "cell_type": "markdown",
   "id": "09a07967-d808-489f-94aa-67293273c322",
   "metadata": {},
   "source": [
    "20. Slice a tuple."
   ]
  },
  {
   "cell_type": "code",
   "execution_count": 72,
   "id": "cc166d65-9cfa-4613-87d5-dbb13feb880b",
   "metadata": {},
   "outputs": [
    {
     "data": {
      "text/plain": [
       "(2, 3, 4, 6)"
      ]
     },
     "execution_count": 72,
     "metadata": {},
     "output_type": "execute_result"
    }
   ],
   "source": [
    "tup=(1,2,3,4,6,7,8)\n",
    "tup[1:5]"
   ]
  },
  {
   "cell_type": "markdown",
   "id": "1f8cae5d-efbb-4376-adb4-75b9b954a718",
   "metadata": {},
   "source": [
    "21. Find the maximum value in a tuple."
   ]
  },
  {
   "cell_type": "code",
   "execution_count": 73,
   "id": "499b8ce9-34bd-4561-a10d-1bbf732cb093",
   "metadata": {},
   "outputs": [
    {
     "data": {
      "text/plain": [
       "9"
      ]
     },
     "execution_count": 73,
     "metadata": {},
     "output_type": "execute_result"
    }
   ],
   "source": [
    "tup=(8,6,4,2,9)\n",
    "max(tup)"
   ]
  },
  {
   "cell_type": "markdown",
   "id": "9a680fc8-8c80-4ce0-8c44-beed511051d8",
   "metadata": {},
   "source": [
    "22. Find the minimum value in a tuple."
   ]
  },
  {
   "cell_type": "code",
   "execution_count": 74,
   "id": "8438997d-8748-407f-b2cf-2c07d100510d",
   "metadata": {},
   "outputs": [
    {
     "data": {
      "text/plain": [
       "2"
      ]
     },
     "execution_count": 74,
     "metadata": {},
     "output_type": "execute_result"
    }
   ],
   "source": [
    "tup=(8,6,4,2,9)\n",
    "min(tup)"
   ]
  },
  {
   "cell_type": "markdown",
   "id": "42c7495c-756b-4cc6-852a-2b9e4dca912d",
   "metadata": {},
   "source": [
    "23. Convert a string to a tuple of characters."
   ]
  },
  {
   "cell_type": "code",
   "execution_count": 75,
   "id": "aba6b81e-55e7-43e3-800c-61790eed2f2b",
   "metadata": {},
   "outputs": [
    {
     "name": "stdout",
     "output_type": "stream",
     "text": [
      "('w', 'e', 'l', 'c', 'o', 'm', 'e', ' ', 't', 'o', ' ', 'p', 'y', 't', 'h', 'o', 'n', ' ', 'c', 'l', 'a', 's', 's')\n"
     ]
    }
   ],
   "source": [
    "string=\"welcome to python class\"\n",
    "tup=tuple(string)\n",
    "print(tup)"
   ]
  },
  {
   "cell_type": "markdown",
   "id": "b293d237-6020-4f82-b66f-793673c7e367",
   "metadata": {},
   "source": [
    "24. Convert a tuple of characters to a string."
   ]
  },
  {
   "cell_type": "code",
   "execution_count": 76,
   "id": "fd1ee5f6-6b3d-47d7-9b96-6e24ce35eef4",
   "metadata": {},
   "outputs": [
    {
     "data": {
      "text/plain": [
       "'welcome to python class'"
      ]
     },
     "execution_count": 76,
     "metadata": {},
     "output_type": "execute_result"
    }
   ],
   "source": [
    "tup=('w', 'e', 'l', 'c', 'o', 'm', 'e', ' ', 't', 'o', ' ', 'p', 'y', 't', 'h', 'o', 'n', ' ', 'c', 'l', 'a', 's', 's')\n",
    "string=''.join(tup)\n",
    "string"
   ]
  },
  {
   "cell_type": "markdown",
   "id": "8d8f092f-f628-4e6e-b8f3-49d07b6124d6",
   "metadata": {},
   "source": [
    "25. Create a tuple from multiple data types."
   ]
  },
  {
   "cell_type": "code",
   "execution_count": 77,
   "id": "55071cdd-5f75-4169-bc48-c7756cea41c0",
   "metadata": {},
   "outputs": [
    {
     "data": {
      "text/plain": [
       "(1, 'sai', True, 12.0)"
      ]
     },
     "execution_count": 77,
     "metadata": {},
     "output_type": "execute_result"
    }
   ],
   "source": [
    "tup=(1,\"sai\",True,12.0)\n",
    "tup"
   ]
  },
  {
   "cell_type": "markdown",
   "id": "fc2f0f68-be69-4134-a995-40ba01fd49cf",
   "metadata": {},
   "source": [
    "26. Check if two tuples are identical."
   ]
  },
  {
   "cell_type": "code",
   "execution_count": 78,
   "id": "71e0b816-2ae4-462b-8422-7661e02e2f43",
   "metadata": {},
   "outputs": [
    {
     "name": "stdout",
     "output_type": "stream",
     "text": [
      "two tuples are identical\n"
     ]
    }
   ],
   "source": [
    "tup1=(1,2,3)\n",
    "tup2=(1,2,3)\n",
    "if tup1==tup2:\n",
    "    print(\"two tuples are identical\")\n",
    "else:\n",
    "    print(\"two tuples are not identical\")"
   ]
  },
  {
   "cell_type": "markdown",
   "id": "df68a42a-149b-4b0f-839a-f41bb8e0fcd9",
   "metadata": {},
   "source": [
    "27. Sort the elements of a tuple."
   ]
  },
  {
   "cell_type": "code",
   "execution_count": 79,
   "id": "b7a367dc-4528-482a-b4e8-66b3173b5756",
   "metadata": {},
   "outputs": [
    {
     "data": {
      "text/plain": [
       "(1, 2, 3, 4, 5, 6, 9)"
      ]
     },
     "execution_count": 79,
     "metadata": {},
     "output_type": "execute_result"
    }
   ],
   "source": [
    "tup=(3,6,4,5,2,9,1)\n",
    "sort_tup=tuple(sorted(tup))\n",
    "sort_tup"
   ]
  },
  {
   "cell_type": "markdown",
   "id": "8e979b72-dc2d-411d-a62e-9e06507dcfc4",
   "metadata": {},
   "source": [
    "28. Convert a tuple of integers to a tuple of strings."
   ]
  },
  {
   "cell_type": "code",
   "execution_count": 80,
   "id": "75f84f76-aa57-4fa7-bcaa-4f48231957d6",
   "metadata": {},
   "outputs": [
    {
     "data": {
      "text/plain": [
       "('1', '2', '3', '4')"
      ]
     },
     "execution_count": 80,
     "metadata": {},
     "output_type": "execute_result"
    }
   ],
   "source": [
    "tup=(1,2,3,4)\n",
    "newtup=tuple([str(x) for x in tup])\n",
    "newtup"
   ]
  },
  {
   "cell_type": "markdown",
   "id": "00b355b8-b482-4ec3-ae57-9fe07f879ede",
   "metadata": {},
   "source": [
    "29. Convert a tuple of strings to a tuple of integers."
   ]
  },
  {
   "cell_type": "code",
   "execution_count": 81,
   "id": "f650d135-c22a-40b3-8b25-3f1503d1bc68",
   "metadata": {},
   "outputs": [
    {
     "data": {
      "text/plain": [
       "(1, 2, 3, 4)"
      ]
     },
     "execution_count": 81,
     "metadata": {},
     "output_type": "execute_result"
    }
   ],
   "source": [
    "tup=('1','2','3','4')\n",
    "newtup=tuple([int(x) for x in tup])\n",
    "newtup"
   ]
  },
  {
   "cell_type": "markdown",
   "id": "31f8c2b9-c1c5-49a0-8ca9-db9ffeaf7eb3",
   "metadata": {},
   "source": [
    "30. Merge two tuples."
   ]
  },
  {
   "cell_type": "code",
   "execution_count": 82,
   "id": "d8810c5d-fee3-4b9c-a668-ec4760785ea2",
   "metadata": {},
   "outputs": [
    {
     "data": {
      "text/plain": [
       "(1, 2, 3, 4, 5, 6)"
      ]
     },
     "execution_count": 82,
     "metadata": {},
     "output_type": "execute_result"
    }
   ],
   "source": [
    "tup1=(1,2,3)\n",
    "tup2=(4,5,6)\n",
    "tup1+tup2"
   ]
  },
  {
   "cell_type": "markdown",
   "id": "c0763696-bc93-49a9-9c25-d0f0d25a3999",
   "metadata": {},
   "source": [
    "31. Flatten a nested tuple."
   ]
  },
  {
   "cell_type": "code",
   "execution_count": 1,
   "id": "07b426a2-b6bc-4e75-819e-b22598457162",
   "metadata": {},
   "outputs": [
    {
     "name": "stdout",
     "output_type": "stream",
     "text": [
      "(6, 7, 8, 8, 2, 3, 4, 1, 2, 3)\n"
     ]
    }
   ],
   "source": [
    "pytup = ((6, (7, 8), 8), (2, 3, 4), (1, 2, 3))\n",
    "flattened_list = []\n",
    "for subtuple in pytup:\n",
    "    for i in subtuple:\n",
    "        if isinstance(i, tuple):\n",
    "            flattened_list.extend(i)\n",
    "        else:\n",
    "            flattened_list.append(i)\n",
    "flattened_tuple = tuple(flattened_list)\n",
    "print(flattened_tuple)"
   ]
  },
  {
   "cell_type": "markdown",
   "id": "9adf2df1-abfb-4148-8258-5dc9f8e71a7d",
   "metadata": {},
   "source": [
    "32. Create a tuple of the first 5 prime numbers."
   ]
  },
  {
   "cell_type": "code",
   "execution_count": 88,
   "id": "87f5a51e-8624-4c00-bd66-7f2dcf57cc4f",
   "metadata": {},
   "outputs": [
    {
     "name": "stdout",
     "output_type": "stream",
     "text": [
      "(2, 3, 5, 7, 11)\n"
     ]
    }
   ],
   "source": [
    "prime_numbers = []\n",
    "num = 2\n",
    "\n",
    "while len(prime_numbers) < 5:\n",
    "    is_prime = all(num % i != 0 for i in prime_numbers)\n",
    "    if is_prime:\n",
    "        prime_numbers.append(num)\n",
    "    num += 1\n",
    "\n",
    "prime_numbers = tuple(prime_numbers)\n",
    "print(prime_numbers)"
   ]
  },
  {
   "cell_type": "markdown",
   "id": "c9ef77ed-edb6-44de-9dc1-122a04e090ba",
   "metadata": {},
   "source": [
    "33. Check if a tuple is a palindrome."
   ]
  },
  {
   "cell_type": "code",
   "execution_count": 95,
   "id": "0fb0cd7a-bbc3-4431-9aae-847233172e4c",
   "metadata": {},
   "outputs": [
    {
     "name": "stdout",
     "output_type": "stream",
     "text": [
      "tuple is palindrome\n"
     ]
    }
   ],
   "source": [
    "tup=(1,2,3,2,1)\n",
    "newtuple=tup[::-1]\n",
    "if tup==newtuple:\n",
    "    print(\"tuple is palindrome\")\n",
    "else:\n",
    "    print(\"tuple is not  a palindrome\")"
   ]
  },
  {
   "cell_type": "markdown",
   "id": "9fbc09ca-c91d-4330-b04c-7e5f9cb28d08",
   "metadata": {},
   "source": [
    "34. Create a tuple of squares of numbers from 1 to 5."
   ]
  },
  {
   "cell_type": "code",
   "execution_count": 96,
   "id": "ef15cab4-f63d-4872-8d6c-77fd07385ec9",
   "metadata": {},
   "outputs": [
    {
     "data": {
      "text/plain": [
       "(1, 4, 9, 16, 25)"
      ]
     },
     "execution_count": 96,
     "metadata": {},
     "output_type": "execute_result"
    }
   ],
   "source": [
    "tup=tuple([x*x for x in range(1,6)])\n",
    "tup"
   ]
  },
  {
   "cell_type": "markdown",
   "id": "aaebb084-be9b-4fe9-b94d-f089b111e75b",
   "metadata": {},
   "source": [
    "35. Filter out all even numbers from a tuple."
   ]
  },
  {
   "cell_type": "code",
   "execution_count": 104,
   "id": "dfce2426-86cd-4d7e-94bf-a914482236ad",
   "metadata": {},
   "outputs": [
    {
     "data": {
      "text/plain": [
       "(2, 4, 6)"
      ]
     },
     "execution_count": 104,
     "metadata": {},
     "output_type": "execute_result"
    }
   ],
   "source": [
    "tup=(1,2,3,4,5,6)\n",
    "even_tuple=[]\n",
    "for i in tup:\n",
    "    if i%2==0:\n",
    "        even_tuple.append(i)\n",
    "    elif i==1:\n",
    "        continue\n",
    "    else:\n",
    "        even_tuple\n",
    "tuple(even_tuple)        \n",
    "        "
   ]
  },
  {
   "cell_type": "markdown",
   "id": "8f26b0c5-0ae6-4ca2-9473-d9c004f9a7b1",
   "metadata": {},
   "source": [
    "36. Multiply all elements in a tuple by 2."
   ]
  },
  {
   "cell_type": "code",
   "execution_count": 107,
   "id": "4a046f2b-5571-4b08-8c62-e0c78d57f55d",
   "metadata": {},
   "outputs": [
    {
     "data": {
      "text/plain": [
       "(2, 6, 10, 12)"
      ]
     },
     "execution_count": 107,
     "metadata": {},
     "output_type": "execute_result"
    }
   ],
   "source": [
    "tup=(1,3,5,6)\n",
    "tup1=tuple([x*2 for x in tup])\n",
    "tup1"
   ]
  },
  {
   "cell_type": "markdown",
   "id": "fbc8a314-c1fa-4eaa-8098-1f8417bad369",
   "metadata": {},
   "source": [
    "37. Create a tuple of random numbers."
   ]
  },
  {
   "cell_type": "code",
   "execution_count": 109,
   "id": "c2efaa0a-f0e3-4534-8d90-e241d1d0c557",
   "metadata": {},
   "outputs": [
    {
     "name": "stdout",
     "output_type": "stream",
     "text": [
      "(8, 1, 10, 1, 5)\n"
     ]
    }
   ],
   "source": [
    "import random\n",
    "random_numbers = tuple(random.randint(1, 10) for i in range(5))\n",
    "print(random_numbers)"
   ]
  },
  {
   "cell_type": "markdown",
   "id": "013f8f56-3c8f-41e1-ae58-14430564885b",
   "metadata": {},
   "source": [
    "38. Check if a tuple is sorted."
   ]
  },
  {
   "cell_type": "code",
   "execution_count": 110,
   "id": "8aba34c1-deec-4652-a0b8-07291e21f7c6",
   "metadata": {},
   "outputs": [
    {
     "name": "stdout",
     "output_type": "stream",
     "text": [
      "The tuple is sorted.\n"
     ]
    }
   ],
   "source": [
    "tup=(1,2,3,4,5)\n",
    "if tup == tuple(sorted(tup)):\n",
    "    print(\"The tuple is sorted.\")\n",
    "else:\n",
    "    print(\"The tuple is not sorted.\")"
   ]
  },
  {
   "cell_type": "markdown",
   "id": "1256e0cf-e9b8-44dc-b03f-6bc6bff0329c",
   "metadata": {},
   "source": [
    "39. Rotate a tuple to the left by `n` positions."
   ]
  },
  {
   "cell_type": "code",
   "execution_count": 112,
   "id": "ac0bbcab-7136-4e96-97f4-493edfe7bbf6",
   "metadata": {},
   "outputs": [
    {
     "name": "stdout",
     "output_type": "stream",
     "text": [
      "(4, 5, 1, 2, 3)\n"
     ]
    }
   ],
   "source": [
    "original_tuple = (1, 2, 3, 4, 5)\n",
    "n = 3\n",
    "n = n % len(original_tuple)\n",
    "if len(original_tuple) > 0 and n > 0:\n",
    "    rotated_tuple = original_tuple[n:] + original_tuple[:n]\n",
    "else:\n",
    "    rotated_tuple = original_tuple\n",
    "print(rotated_tuple)"
   ]
  },
  {
   "cell_type": "markdown",
   "id": "22f56976-9c5a-4fea-9cc3-02db66df6d6f",
   "metadata": {},
   "source": [
    "40. Rotate a tuple to the right by `n` positions."
   ]
  },
  {
   "cell_type": "code",
   "execution_count": 113,
   "id": "32101da5-b490-417c-961c-f855fb9fb541",
   "metadata": {},
   "outputs": [
    {
     "name": "stdout",
     "output_type": "stream",
     "text": [
      "(3, 4, 5, 1, 2)\n"
     ]
    }
   ],
   "source": [
    "original_tuple = (1, 2, 3, 4, 5)\n",
    "n = 3\n",
    "n = n % len(original_tuple)\n",
    "if len(original_tuple) > 0 and n > 0:\n",
    "    rotated_tuple = original_tuple[-n:] + original_tuple[:-n]\n",
    "else:\n",
    "    rotated_tuple = original_tuple\n",
    "print(rotated_tuple)"
   ]
  },
  {
   "cell_type": "markdown",
   "id": "213b6d32-c9e8-4a6f-b6b4-8694df11040a",
   "metadata": {},
   "source": [
    "41. Create a tuple of the first 5 Fibonacci numbers."
   ]
  },
  {
   "cell_type": "code",
   "execution_count": 115,
   "id": "c7a3bd54-2904-4584-8bee-4ef8acaa91c1",
   "metadata": {},
   "outputs": [
    {
     "name": "stdout",
     "output_type": "stream",
     "text": [
      "(0, 1, 1, 2, 3)\n"
     ]
    }
   ],
   "source": [
    "l=[0,1]\n",
    "while len(l)<5:\n",
    "    number=l[-1]+l[-2]\n",
    "    l.append(number)\n",
    "print(tuple(l))    "
   ]
  },
  {
   "cell_type": "markdown",
   "id": "e1374ee5-abf4-41f9-a9bf-acc3c5957859",
   "metadata": {},
   "source": [
    "42. Create a tuple from user input."
   ]
  },
  {
   "cell_type": "code",
   "execution_count": 2,
   "id": "08c3f56a-9c5f-4053-88b4-e3ae8878ba2d",
   "metadata": {},
   "outputs": [
    {
     "name": "stdin",
     "output_type": "stream",
     "text": [
      "enter elements abcde\n"
     ]
    },
    {
     "data": {
      "text/plain": [
       "('a', 'b', 'c', 'd', 'e')"
      ]
     },
     "execution_count": 2,
     "metadata": {},
     "output_type": "execute_result"
    }
   ],
   "source": [
    "userinput=input(\"enter elements\")\n",
    "tup=tuple(userinput)\n",
    "tup"
   ]
  },
  {
   "cell_type": "markdown",
   "id": "4566e5dd-bb3d-40a6-9474-4914d5330d65",
   "metadata": {},
   "source": [
    "43. Swap two elements in a tuple."
   ]
  },
  {
   "cell_type": "code",
   "execution_count": 14,
   "id": "de494025-92c7-4466-963f-3208dcafc145",
   "metadata": {},
   "outputs": [
    {
     "data": {
      "text/plain": [
       "(2, 6, 4, 8)"
      ]
     },
     "execution_count": 14,
     "metadata": {},
     "output_type": "execute_result"
    }
   ],
   "source": [
    "l=(2,4,6,8)\n",
    "l=list(tup)\n",
    "l[1],l[2]=l[2],l[1]\n",
    "swaptup=tuple(l)\n",
    "swaptup"
   ]
  },
  {
   "cell_type": "markdown",
   "id": "9fec3ad3-7d05-47a8-b338-051a0aeca699",
   "metadata": {},
   "source": [
    "44. Reverse the elements of a tuple."
   ]
  },
  {
   "cell_type": "code",
   "execution_count": 1,
   "id": "cd233944-8a26-49a5-a862-b42de3e08692",
   "metadata": {},
   "outputs": [
    {
     "data": {
      "text/plain": [
       "(4, 3, 2, 1)"
      ]
     },
     "execution_count": 1,
     "metadata": {},
     "output_type": "execute_result"
    }
   ],
   "source": [
    "tup=(1,2,3,4)\n",
    "newtuple=tup[::-1]\n",
    "newtuple"
   ]
  },
  {
   "cell_type": "markdown",
   "id": "b44fdbae-41e5-41ae-8efd-424aa8a6b207",
   "metadata": {},
   "source": [
    "45. Create a tuple of the first `n` powers of 2."
   ]
  },
  {
   "cell_type": "code",
   "execution_count": 4,
   "id": "4f538ce3-5f4f-4aa2-8b80-368e3f7efb1e",
   "metadata": {},
   "outputs": [
    {
     "name": "stdout",
     "output_type": "stream",
     "text": [
      "(1, 2, 4, 8, 16)\n"
     ]
    }
   ],
   "source": [
    "n = 5 \n",
    "powers_of_2 = ()\n",
    "for i in range(n):\n",
    "    powers_of_2 += (2 ** i,)\n",
    "print(powers_of_2)"
   ]
  },
  {
   "cell_type": "markdown",
   "id": "f81b9aab-aeed-459c-a236-b2e9b492a241",
   "metadata": {},
   "source": [
    "46. Find the longest string in a tuple of strings."
   ]
  },
  {
   "cell_type": "code",
   "execution_count": 7,
   "id": "b98dc143-6746-4cb5-b866-7688ee42ead8",
   "metadata": {},
   "outputs": [
    {
     "data": {
      "text/plain": [
       "'datascience'"
      ]
     },
     "execution_count": 7,
     "metadata": {},
     "output_type": "execute_result"
    }
   ],
   "source": [
    "string_tuple=(\"python\",\"datascience\",\"java\",\"dotnet\")\n",
    "new_tuple=max(string_tuple,key=len)\n",
    "new_tuple"
   ]
  },
  {
   "cell_type": "markdown",
   "id": "968891a1-bdfd-400d-91c1-8590de3de393",
   "metadata": {},
   "source": [
    "47. Find the shortest string in a tuple of strings."
   ]
  },
  {
   "cell_type": "code",
   "execution_count": 8,
   "id": "00ee9105-abcf-4abc-80fd-1cb9e9023a18",
   "metadata": {},
   "outputs": [
    {
     "data": {
      "text/plain": [
       "'java'"
      ]
     },
     "execution_count": 8,
     "metadata": {},
     "output_type": "execute_result"
    }
   ],
   "source": [
    "string_tuple=(\"python\",\"datascience\",\"java\",\"dotnet\")\n",
    "new_tuple=min(string_tuple,key=len)\n",
    "new_tuple"
   ]
  },
  {
   "cell_type": "markdown",
   "id": "04eb2d0e-acfd-449f-8ec6-3b3a3ccb7bd0",
   "metadata": {},
   "source": [
    "48. Create a tuple of the first `n` triangular numbers."
   ]
  },
  {
   "cell_type": "code",
   "execution_count": 10,
   "id": "85b09539-4bb7-4fbf-8a91-f6661bbb68b1",
   "metadata": {},
   "outputs": [
    {
     "name": "stdout",
     "output_type": "stream",
     "text": [
      "(1, 3, 6, 10, 15)\n"
     ]
    }
   ],
   "source": [
    "n = 5 \n",
    "triangular_numbers = ()\n",
    "sum_of_naturals = 0\n",
    "for i in range(1, n + 1):\n",
    "    sum_of_naturals += i\n",
    "    triangular_numbers += (sum_of_naturals,)\n",
    "print(triangular_numbers)"
   ]
  },
  {
   "cell_type": "markdown",
   "id": "f1de3f3f-88e4-4ced-b7f3-aaedbdc1c609",
   "metadata": {},
   "source": [
    "49. Check if a tuple contains another tuple as a subsequence."
   ]
  },
  {
   "cell_type": "code",
   "execution_count": 2,
   "id": "3aa22904-f590-4902-ac1b-3749249819c5",
   "metadata": {},
   "outputs": [
    {
     "name": "stdout",
     "output_type": "stream",
     "text": [
      "The sub_tuple is a subsequence of the main_tuple.\n"
     ]
    }
   ],
   "source": [
    "main_tuple = (1, 2, 3, 4, 5, 6, 7, 8)\n",
    "sub_tuple = (3, 5, 7)\n",
    "\n",
    "is_subsequence = set(sub_tuple).issubset(main_tuple)\n",
    "\n",
    "if is_subsequence:\n",
    "    print(\"The sub_tuple is a subsequence of the main_tuple.\")\n",
    "else:\n",
    "    print(\"The sub_tuple is not a subsequence of the main_tuple.\")"
   ]
  },
  {
   "cell_type": "markdown",
   "id": "988f00a9-b002-42e6-bf7c-ca19f90d8c1c",
   "metadata": {},
   "source": [
    "50. Create a tuple of alternating 1s and 0s of length `n`."
   ]
  },
  {
   "cell_type": "code",
   "execution_count": 22,
   "id": "1341db64-4473-42ff-8bcf-dd1165a8cbb2",
   "metadata": {},
   "outputs": [
    {
     "name": "stdin",
     "output_type": "stream",
     "text": [
      "enter any number 6\n"
     ]
    },
    {
     "data": {
      "text/plain": [
       "(1, 0, 1, 0, 1, 0)"
      ]
     },
     "execution_count": 22,
     "metadata": {},
     "output_type": "execute_result"
    }
   ],
   "source": [
    "n=int(input(\"enter any number\"))\n",
    "alter_tuple=tuple([1 if x%2==0 else 0 for x in range(n)])\n",
    "alter_tuple"
   ]
  },
  {
   "cell_type": "markdown",
   "id": "cb7be398-ea03-43ee-b826-f2d8faef145e",
   "metadata": {},
   "source": [
    "Set Based Practice Problem :"
   ]
  },
  {
   "cell_type": "markdown",
   "id": "c68b97f8-16f8-46f1-8367-53bd7c6a73ec",
   "metadata": {},
   "source": [
    "1. Create a set with integers from 1 to 5."
   ]
  },
  {
   "cell_type": "code",
   "execution_count": 5,
   "id": "b3563f81-c866-47f6-a6e8-db9ee108a43f",
   "metadata": {},
   "outputs": [
    {
     "data": {
      "text/plain": [
       "{1, 2, 3, 4, 5}"
      ]
     },
     "execution_count": 5,
     "metadata": {},
     "output_type": "execute_result"
    }
   ],
   "source": [
    "pyset={1,2,3,4,5}\n",
    "pyset"
   ]
  },
  {
   "cell_type": "markdown",
   "id": "b912bfc6-9ae3-475f-ac5c-6a07472d54ca",
   "metadata": {},
   "source": [
    "2. Add an element to a set."
   ]
  },
  {
   "cell_type": "code",
   "execution_count": 7,
   "id": "78e6f0af-8aad-4bce-863b-9bc6020e0e17",
   "metadata": {},
   "outputs": [
    {
     "data": {
      "text/plain": [
       "{1, 2, 3, 4, 5, 6}"
      ]
     },
     "execution_count": 7,
     "metadata": {},
     "output_type": "execute_result"
    }
   ],
   "source": [
    "pyset={1,2,3,4,5}\n",
    "pyset.add(6)\n",
    "pyset"
   ]
  },
  {
   "cell_type": "markdown",
   "id": "1036b457-6e38-4ebc-9807-855b695481e7",
   "metadata": {},
   "source": [
    "3. Remove an element from a set."
   ]
  },
  {
   "cell_type": "code",
   "execution_count": 24,
   "id": "3c7c2e01-4825-40c4-902c-6fe36a7f9b94",
   "metadata": {},
   "outputs": [
    {
     "data": {
      "text/plain": [
       "{1, 5, 7}"
      ]
     },
     "execution_count": 24,
     "metadata": {},
     "output_type": "execute_result"
    }
   ],
   "source": [
    "pyset={1,3,5,7}\n",
    "pyset.remove(3)\n",
    "pyset"
   ]
  },
  {
   "cell_type": "markdown",
   "id": "998dd474-a41e-4464-8bc1-b96689aceb91",
   "metadata": {},
   "source": [
    "4. Check if an element exists in a set."
   ]
  },
  {
   "cell_type": "code",
   "execution_count": 25,
   "id": "8991ca9e-18f5-489d-9ddb-31d5a26112f2",
   "metadata": {},
   "outputs": [
    {
     "name": "stdout",
     "output_type": "stream",
     "text": [
      "element exists in a set\n"
     ]
    }
   ],
   "source": [
    "pyset={1,2,3,4,5}\n",
    "if 2 in pyset:\n",
    "    print(\"element exists in a set\")\n",
    "else:\n",
    "    pring(\"element doesnot exist in a set\")"
   ]
  },
  {
   "cell_type": "markdown",
   "id": "c204fed7-4cb5-4e1f-a328-80941b915dd5",
   "metadata": {},
   "source": [
    "5. Find the length of a set without using the `len()` function."
   ]
  },
  {
   "cell_type": "code",
   "execution_count": 26,
   "id": "2c7c9fad-091d-4a23-a0ff-794c2ad21120",
   "metadata": {},
   "outputs": [
    {
     "data": {
      "text/plain": [
       "5"
      ]
     },
     "execution_count": 26,
     "metadata": {},
     "output_type": "execute_result"
    }
   ],
   "source": [
    "pyset={1,2,3,4,5}\n",
    "count=0\n",
    "for i in pyset:\n",
    "    count+=1\n",
    "count    "
   ]
  },
  {
   "cell_type": "markdown",
   "id": "e13b357a-7dc4-4fdd-867b-3beb979dfa04",
   "metadata": {},
   "source": [
    "6. Clear all elements from a set."
   ]
  },
  {
   "cell_type": "code",
   "execution_count": 27,
   "id": "c7087798-221d-47ec-8049-0d6ce0f3c814",
   "metadata": {},
   "outputs": [
    {
     "data": {
      "text/plain": [
       "set()"
      ]
     },
     "execution_count": 27,
     "metadata": {},
     "output_type": "execute_result"
    }
   ],
   "source": [
    "pyset={2,4,6,8}\n",
    "pyset.clear()\n",
    "pyset"
   ]
  },
  {
   "cell_type": "markdown",
   "id": "30ecb828-ef20-4285-9443-3cd3b6e821e2",
   "metadata": {},
   "source": [
    "7. Create a set of even numbers from 1 to 10."
   ]
  },
  {
   "cell_type": "code",
   "execution_count": 28,
   "id": "2b511dfc-06c0-4885-966b-dee1a50cefdc",
   "metadata": {},
   "outputs": [
    {
     "data": {
      "text/plain": [
       "{2, 4, 6, 8, 10}"
      ]
     },
     "execution_count": 28,
     "metadata": {},
     "output_type": "execute_result"
    }
   ],
   "source": [
    "pyset={x for x in range(1,11) if x%2==0}\n",
    "pyset"
   ]
  },
  {
   "cell_type": "markdown",
   "id": "eca72146-267a-4822-afe3-c00a37b30b21",
   "metadata": {},
   "source": [
    "8. Create a set of odd numbers from 1 to 10."
   ]
  },
  {
   "cell_type": "code",
   "execution_count": 29,
   "id": "02d37670-1629-486c-823c-1e6c3c19e876",
   "metadata": {},
   "outputs": [
    {
     "data": {
      "text/plain": [
       "{1, 3, 5, 7, 9}"
      ]
     },
     "execution_count": 29,
     "metadata": {},
     "output_type": "execute_result"
    }
   ],
   "source": [
    "pyset={x for x in range(1,11) if x%2!=0}\n",
    "pyset"
   ]
  },
  {
   "cell_type": "markdown",
   "id": "1caf975f-28bc-469b-81ce-f712622eab25",
   "metadata": {},
   "source": [
    "9. Find the union of two sets."
   ]
  },
  {
   "cell_type": "code",
   "execution_count": 30,
   "id": "3b62269b-0fef-44fb-97ea-c21eaa805172",
   "metadata": {},
   "outputs": [
    {
     "data": {
      "text/plain": [
       "{1, 2, 3, 4, 5, 6, 7}"
      ]
     },
     "execution_count": 30,
     "metadata": {},
     "output_type": "execute_result"
    }
   ],
   "source": [
    "set1={1,2,3,4}\n",
    "set2={5,6,7}\n",
    "set1.union(set2)"
   ]
  },
  {
   "cell_type": "markdown",
   "id": "cca36985-4c32-4155-a274-7280d13481dc",
   "metadata": {},
   "source": [
    "10. Find the intersection of two sets."
   ]
  },
  {
   "cell_type": "code",
   "execution_count": 31,
   "id": "43ec27c5-f220-44c6-bca8-92b750750dc3",
   "metadata": {},
   "outputs": [
    {
     "data": {
      "text/plain": [
       "{1, 4}"
      ]
     },
     "execution_count": 31,
     "metadata": {},
     "output_type": "execute_result"
    }
   ],
   "source": [
    "set1={1,2,3,4}\n",
    "set2={1,5,4,7}\n",
    "set1.intersection(set2)"
   ]
  },
  {
   "cell_type": "markdown",
   "id": "c4bcac6e-d8ae-4059-b8fc-1804b89f1909",
   "metadata": {},
   "source": [
    "11. Find the difference between two sets."
   ]
  },
  {
   "cell_type": "code",
   "execution_count": 32,
   "id": "1d34ee91-f60f-43e7-bedf-bff5d4c11f4d",
   "metadata": {},
   "outputs": [
    {
     "data": {
      "text/plain": [
       "{2, 3}"
      ]
     },
     "execution_count": 32,
     "metadata": {},
     "output_type": "execute_result"
    }
   ],
   "source": [
    "set1={1,2,3,4}\n",
    "set2={1,5,4,7}\n",
    "set1.difference(set2)"
   ]
  },
  {
   "cell_type": "markdown",
   "id": "613691f8-77c5-4ce0-a00b-06b10cf6b7e0",
   "metadata": {},
   "source": [
    "12. Check if a set is a subset of another set."
   ]
  },
  {
   "cell_type": "code",
   "execution_count": 33,
   "id": "7ff7a98f-5c31-4c0a-bd11-36da8f49e680",
   "metadata": {},
   "outputs": [
    {
     "name": "stdout",
     "output_type": "stream",
     "text": [
      "subset of another set\n"
     ]
    }
   ],
   "source": [
    "set1={1,2}\n",
    "set2={1,2,3}\n",
    "if set1.issubset(set2):\n",
    "    print(\"subset of another set\")\n",
    "else:\n",
    "    print(\"not a subset of another set\")"
   ]
  },
  {
   "cell_type": "markdown",
   "id": "1c1204ff-faea-4e75-ae20-9fff43edf5b5",
   "metadata": {},
   "source": [
    "13. Check if a set is a superset of another set."
   ]
  },
  {
   "cell_type": "code",
   "execution_count": 34,
   "id": "c1b4d0dd-89b8-41c8-820c-03867178a348",
   "metadata": {},
   "outputs": [
    {
     "name": "stdout",
     "output_type": "stream",
     "text": [
      "superset of another set\n"
     ]
    }
   ],
   "source": [
    "set1={1,2,3,4}\n",
    "set2={1,2}\n",
    "if set1.issuperset(set2):\n",
    "    print(\"superset of another set\")\n",
    "else:\n",
    "    print(\"not a superset of another set\")"
   ]
  },
  {
   "cell_type": "markdown",
   "id": "dda58efe-39cb-47d1-b848-eada8bf6fcc8",
   "metadata": {},
   "source": [
    "14. Create a set from a list."
   ]
  },
  {
   "cell_type": "code",
   "execution_count": 35,
   "id": "f4cb2ab5-053b-46f9-b984-1d846d09ef43",
   "metadata": {},
   "outputs": [
    {
     "data": {
      "text/plain": [
       "{1, 2, 3, 4}"
      ]
     },
     "execution_count": 35,
     "metadata": {},
     "output_type": "execute_result"
    }
   ],
   "source": [
    "pylist=[1,2,3,4]\n",
    "pyset=set(pylist)\n",
    "pyset"
   ]
  },
  {
   "cell_type": "markdown",
   "id": "2267ba02-fef1-4f41-88e5-3ebdcd3371a0",
   "metadata": {},
   "source": [
    "15. Convert a set to a list."
   ]
  },
  {
   "cell_type": "code",
   "execution_count": 36,
   "id": "18266321-1a69-4a68-a75f-14b0e26b42f7",
   "metadata": {},
   "outputs": [
    {
     "data": {
      "text/plain": [
       "[1, 2, 3, 4]"
      ]
     },
     "execution_count": 36,
     "metadata": {},
     "output_type": "execute_result"
    }
   ],
   "source": [
    "pyset={1,2,3,4}\n",
    "pylist=list(pyset)\n",
    "pylist"
   ]
  },
  {
   "cell_type": "markdown",
   "id": "5715e825-8738-44a4-a102-ed3e0b16d759",
   "metadata": {},
   "source": [
    "16. Remove a random element from a set."
   ]
  },
  {
   "cell_type": "code",
   "execution_count": 37,
   "id": "301cc8d1-be25-40ff-b261-79bd61e0c39d",
   "metadata": {},
   "outputs": [
    {
     "data": {
      "text/plain": [
       "{1, 2, 3, 5}"
      ]
     },
     "execution_count": 37,
     "metadata": {},
     "output_type": "execute_result"
    }
   ],
   "source": [
    "import random\n",
    "pyset={1,2,3,4,5}\n",
    "random_element=random.choice(list(pyset))\n",
    "pyset.remove(random_element)\n",
    "pyset"
   ]
  },
  {
   "cell_type": "markdown",
   "id": "38a48699-02c0-4bff-8617-418f2d5395db",
   "metadata": {},
   "source": [
    "17. Pop an element from a set."
   ]
  },
  {
   "cell_type": "code",
   "execution_count": 38,
   "id": "51caf778-1fce-43c4-97e3-a575c061185f",
   "metadata": {},
   "outputs": [
    {
     "data": {
      "text/plain": [
       "{2, 3, 4, 5}"
      ]
     },
     "execution_count": 38,
     "metadata": {},
     "output_type": "execute_result"
    }
   ],
   "source": [
    "pyset={1,2,3,4,5}\n",
    "pyset.pop()\n",
    "pyset"
   ]
  },
  {
   "cell_type": "markdown",
   "id": "a7abf9a9-f8c4-4b7d-8246-ef41d9c3fd51",
   "metadata": {},
   "source": [
    "18. Check if two sets have no elements in common."
   ]
  },
  {
   "cell_type": "code",
   "execution_count": 39,
   "id": "3b0efc03-ecf1-4365-afd0-ab8e9c3ffc15",
   "metadata": {},
   "outputs": [
    {
     "name": "stdout",
     "output_type": "stream",
     "text": [
      "The sets have some elements in common.\n"
     ]
    }
   ],
   "source": [
    "set1 = {1, 2, 3}\n",
    "set2 = {1, 5, 6}\n",
    "if set1.isdisjoint(set2):\n",
    "    print(\"The sets have no elements in common.\")\n",
    "else:\n",
    "    print(\"The sets have some elements in common.\")"
   ]
  },
  {
   "cell_type": "markdown",
   "id": "2ebb25b4-88ce-4c52-ab56-06b6bd5cba8a",
   "metadata": {},
   "source": [
    "19. Find the symmetric difference between two sets."
   ]
  },
  {
   "cell_type": "code",
   "execution_count": 40,
   "id": "56f62526-fb1d-48c3-a4c2-83d9ebfbd5e8",
   "metadata": {},
   "outputs": [
    {
     "name": "stdout",
     "output_type": "stream",
     "text": [
      "{1, 2, 5, 6}\n"
     ]
    }
   ],
   "source": [
    "set1 = {1, 2, 3, 4}\n",
    "set2 = {3, 4, 5, 6}\n",
    "symmetric_diff = set1.symmetric_difference(set2)\n",
    "print(symmetric_diff)"
   ]
  },
  {
   "cell_type": "markdown",
   "id": "5d239415-975f-46bd-9f91-4404f1ba281d",
   "metadata": {},
   "source": [
    "20. Update a set with elements from another set."
   ]
  },
  {
   "cell_type": "code",
   "execution_count": 41,
   "id": "968f302c-9f28-42b0-8e21-430659baf860",
   "metadata": {},
   "outputs": [
    {
     "name": "stdout",
     "output_type": "stream",
     "text": [
      "{1, 2, 3, 4, 5}\n"
     ]
    }
   ],
   "source": [
    "set1 = {1, 2, 3}\n",
    "set2 = {3, 4, 5}\n",
    "set1.update(set2)\n",
    "print(set1) "
   ]
  },
  {
   "cell_type": "markdown",
   "id": "946c9763-1280-442d-b365-b403ab369756",
   "metadata": {},
   "source": [
    "21. Create a set of the first 5 prime numbers."
   ]
  },
  {
   "cell_type": "code",
   "execution_count": 42,
   "id": "2117f21f-e3f4-498c-ac07-5e4fea0df3c3",
   "metadata": {},
   "outputs": [
    {
     "name": "stdout",
     "output_type": "stream",
     "text": [
      "{2, 3, 5, 7, 11}\n"
     ]
    }
   ],
   "source": [
    "prime_numbers = set()\n",
    "num = 2\n",
    "while len(prime_numbers) < 5:\n",
    "    is_prime = all(num % i != 0 for i in prime_numbers)\n",
    "    if is_prime:\n",
    "        prime_numbers.add(num)\n",
    "    num += 1\n",
    "print(prime_numbers)"
   ]
  },
  {
   "cell_type": "markdown",
   "id": "c2ae0175-6af0-4350-91c8-3f08f5a4d1c6",
   "metadata": {},
   "source": [
    "22. Check if two sets are identical."
   ]
  },
  {
   "cell_type": "code",
   "execution_count": 43,
   "id": "2a1dae25-f8d2-4438-9264-2f37a98ec051",
   "metadata": {},
   "outputs": [
    {
     "name": "stdout",
     "output_type": "stream",
     "text": [
      "The sets are identical.\n"
     ]
    }
   ],
   "source": [
    "set1 = {1, 2, 3, 4, 5}\n",
    "set2 = {1, 3, 2, 4, 5}\n",
    "if set1 == set2:\n",
    "    print(\"The sets are identical.\")\n",
    "else:\n",
    "    print(\"The sets are not identical.\")"
   ]
  },
  {
   "cell_type": "markdown",
   "id": "2c6e65ee-c4c9-4ff6-a1dd-b95a6563a244",
   "metadata": {},
   "source": [
    "23. Create a frozen set."
   ]
  },
  {
   "cell_type": "code",
   "execution_count": 44,
   "id": "6fc31e9b-dab4-4cee-aef5-94b656de251a",
   "metadata": {},
   "outputs": [
    {
     "data": {
      "text/plain": [
       "frozenset({1, 2, 3, 4, 5})"
      ]
     },
     "execution_count": 44,
     "metadata": {},
     "output_type": "execute_result"
    }
   ],
   "source": [
    "pyset={1,2,3,4,5}\n",
    "frozen_set=frozenset(pyset)\n",
    "frozen_set"
   ]
  },
  {
   "cell_type": "markdown",
   "id": "81b95a1a-1de0-4b84-aead-7a395452d627",
   "metadata": {},
   "source": [
    "24. Check if a set is disjoint with another set."
   ]
  },
  {
   "cell_type": "code",
   "execution_count": 45,
   "id": "9bf5b563-a76a-4bba-8150-b57a86ca5b0a",
   "metadata": {},
   "outputs": [
    {
     "name": "stdout",
     "output_type": "stream",
     "text": [
      "set is disjoint with another set.\n"
     ]
    }
   ],
   "source": [
    "set1 = {1, 2, 3}\n",
    "set2 = {4, 5, 6}\n",
    "\n",
    "if set1.isdisjoint(set2):\n",
    "    print(\"set is disjoint with another set.\")\n",
    "else:\n",
    "     print(\"set is not disjoint with another set.\")\n",
    "    "
   ]
  },
  {
   "cell_type": "markdown",
   "id": "0a0dc2e8-2c78-4981-86ca-5dcad41d31cf",
   "metadata": {},
   "source": [
    "25. Create a set of squares of numbers from 1 to 5."
   ]
  },
  {
   "cell_type": "code",
   "execution_count": 46,
   "id": "46739400-2e74-4ee0-8ebc-a7416560875f",
   "metadata": {},
   "outputs": [
    {
     "data": {
      "text/plain": [
       "{1, 4, 9, 16, 25}"
      ]
     },
     "execution_count": 46,
     "metadata": {},
     "output_type": "execute_result"
    }
   ],
   "source": [
    "pyset={x*x for x in range(1,6)}\n",
    "pyset"
   ]
  },
  {
   "cell_type": "markdown",
   "id": "06952767-719c-4125-b6a3-36a33be9d220",
   "metadata": {},
   "source": [
    "26. Filter out all even numbers from a set."
   ]
  },
  {
   "cell_type": "code",
   "execution_count": 47,
   "id": "a16e615b-4176-4ca6-8a81-b987aff25499",
   "metadata": {},
   "outputs": [
    {
     "data": {
      "text/plain": [
       "{2, 4, 6}"
      ]
     },
     "execution_count": 47,
     "metadata": {},
     "output_type": "execute_result"
    }
   ],
   "source": [
    "pyset={1,2,3,4,5,6}\n",
    "filter_set={x for x in pyset if x%2==0}\n",
    "filter_set"
   ]
  },
  {
   "cell_type": "markdown",
   "id": "b8124d75-b26d-45ea-9deb-baa4a056f36a",
   "metadata": {},
   "source": [
    "27. Multiply all elements in a set by 2."
   ]
  },
  {
   "cell_type": "code",
   "execution_count": 48,
   "id": "51bb8d41-bfb2-4df7-ba74-6af67c769bc4",
   "metadata": {},
   "outputs": [
    {
     "data": {
      "text/plain": [
       "{2, 4, 6, 8}"
      ]
     },
     "execution_count": 48,
     "metadata": {},
     "output_type": "execute_result"
    }
   ],
   "source": [
    "pyset={1,2,3,4}\n",
    "newset={x*2 for x in pyset}\n",
    "newset"
   ]
  },
  {
   "cell_type": "markdown",
   "id": "1c855299-4107-40ce-9009-4f409b0075b1",
   "metadata": {},
   "source": [
    "28. Create a set of random numbers."
   ]
  },
  {
   "cell_type": "code",
   "execution_count": 49,
   "id": "2c2d5705-b070-4141-9a7d-d81076d1ae38",
   "metadata": {},
   "outputs": [
    {
     "data": {
      "text/plain": [
       "{4, 19, 42, 49, 82}"
      ]
     },
     "execution_count": 49,
     "metadata": {},
     "output_type": "execute_result"
    }
   ],
   "source": [
    "import random\n",
    "random_set={random.randint(1,100) for i in range(5)}\n",
    "random_set"
   ]
  },
  {
   "cell_type": "markdown",
   "id": "cd371c32-9517-43c5-ae30-1b903cc5ceb4",
   "metadata": {},
   "source": [
    "29. Check if a set is empty."
   ]
  },
  {
   "cell_type": "code",
   "execution_count": 50,
   "id": "ed376746-c661-446f-9c6e-4a0b2a1e1cf1",
   "metadata": {},
   "outputs": [
    {
     "name": "stdout",
     "output_type": "stream",
     "text": [
      "set is empty\n"
     ]
    }
   ],
   "source": [
    "pyset=set()\n",
    "if len(pyset)==0:\n",
    "    print(\"set is empty\")\n",
    "else:\n",
    "    print(\"set is not empty\")"
   ]
  },
  {
   "cell_type": "markdown",
   "id": "b787f5cc-056b-4b65-92ab-00c24e996743",
   "metadata": {},
   "source": [
    "30. Create a nested set (hint: use frozenset)."
   ]
  },
  {
   "cell_type": "code",
   "execution_count": 51,
   "id": "2be83a9c-9523-44a2-9b2f-48faa3352676",
   "metadata": {},
   "outputs": [
    {
     "name": "stdout",
     "output_type": "stream",
     "text": [
      "{frozenset({3, 4, 5}), frozenset({6, 7}), frozenset({1, 2})}\n"
     ]
    }
   ],
   "source": [
    "nested_set = {frozenset({1, 2}), frozenset({3, 4, 5}), frozenset({6, 7})}\n",
    "print(nested_set)"
   ]
  },
  {
   "cell_type": "markdown",
   "id": "82eb8b91-a8f8-45ae-85a8-366f46876109",
   "metadata": {},
   "source": [
    "31. Remove an element from a set using the discard method."
   ]
  },
  {
   "cell_type": "code",
   "execution_count": 52,
   "id": "640be2f7-d60e-4de8-939f-7ed6d8d63ef0",
   "metadata": {},
   "outputs": [
    {
     "data": {
      "text/plain": [
       "{2, 6, 8}"
      ]
     },
     "execution_count": 52,
     "metadata": {},
     "output_type": "execute_result"
    }
   ],
   "source": [
    "pyset={2,4,6,8}\n",
    "pyset.discard(4)\n",
    "pyset"
   ]
  },
  {
   "cell_type": "markdown",
   "id": "03622d82-08c4-4dea-b3c4-f42aaa302f94",
   "metadata": {},
   "source": [
    "32. Compare two sets."
   ]
  },
  {
   "cell_type": "code",
   "execution_count": 53,
   "id": "36c60c4c-095e-4919-838f-2acabe5d7d3a",
   "metadata": {},
   "outputs": [
    {
     "name": "stdout",
     "output_type": "stream",
     "text": [
      "False\n",
      "False\n",
      "{1, 2, 3, 4, 6, 8}\n",
      "{2, 4}\n",
      "{1, 3}\n",
      "{8, 6}\n"
     ]
    }
   ],
   "source": [
    "set1={1,2,3,4}\n",
    "set2={2,4,6,8}\n",
    "print(set1.issubset(set2))\n",
    "print(set1.issuperset(set2))\n",
    "print(set1.union(set2))\n",
    "print(set1.intersection(set2))\n",
    "print(set1.difference(set2))\n",
    "print(set2.difference(set1))"
   ]
  },
  {
   "cell_type": "markdown",
   "id": "621f4abe-ae84-480b-96c4-7319a1209f05",
   "metadata": {},
   "source": [
    "33. Create a set from a string."
   ]
  },
  {
   "cell_type": "code",
   "execution_count": 54,
   "id": "ae94f74e-dc6d-4240-9fc6-8ca1cec13320",
   "metadata": {},
   "outputs": [
    {
     "data": {
      "text/plain": [
       "{'a', 'b', 'g', 'h', 'i', 'r', 's', 'v'}"
      ]
     },
     "execution_count": 54,
     "metadata": {},
     "output_type": "execute_result"
    }
   ],
   "source": [
    "string=\"saibhargavi\"\n",
    "stringset=set(string)\n",
    "stringset"
   ]
  },
  {
   "cell_type": "markdown",
   "id": "25368d1d-693e-41e1-8578-3ff58537fef3",
   "metadata": {},
   "source": [
    "34. Convert a set of strings to a set of integers."
   ]
  },
  {
   "cell_type": "code",
   "execution_count": 55,
   "id": "fefb4275-c428-440e-8c67-8964a91d39b6",
   "metadata": {},
   "outputs": [
    {
     "data": {
      "text/plain": [
       "{1, 2, 3, 4}"
      ]
     },
     "execution_count": 55,
     "metadata": {},
     "output_type": "execute_result"
    }
   ],
   "source": [
    "string_set={\"1\",\"2\",\"3\",\"4\"}\n",
    "integer_set={int(x) for x in string_set}\n",
    "integer_set"
   ]
  },
  {
   "cell_type": "markdown",
   "id": "240b7d04-6d34-476b-adad-159e43aa55d0",
   "metadata": {},
   "source": [
    "35. Convert a set of integers to a set of strings."
   ]
  },
  {
   "cell_type": "code",
   "execution_count": 56,
   "id": "587c6f6d-dc09-492f-95b1-d7dca314ae27",
   "metadata": {},
   "outputs": [
    {
     "data": {
      "text/plain": [
       "{'1', '2', '3', '4', '5'}"
      ]
     },
     "execution_count": 56,
     "metadata": {},
     "output_type": "execute_result"
    }
   ],
   "source": [
    "integer_set={1,2,3,4,5}\n",
    "string_set={str(x) for x in integer_set}\n",
    "string_set"
   ]
  },
  {
   "cell_type": "markdown",
   "id": "bf789fd6-9697-472d-98bb-64e0c33133c7",
   "metadata": {},
   "source": [
    "36. Create a set from a tuple."
   ]
  },
  {
   "cell_type": "code",
   "execution_count": 57,
   "id": "00d42601-0938-4dd8-b48f-029d40f97448",
   "metadata": {},
   "outputs": [
    {
     "data": {
      "text/plain": [
       "{2, 3, 45, 56}"
      ]
     },
     "execution_count": 57,
     "metadata": {},
     "output_type": "execute_result"
    }
   ],
   "source": [
    "tup=(2,3,45,56)\n",
    "pyset=set(tup)\n",
    "pyset"
   ]
  },
  {
   "cell_type": "markdown",
   "id": "91a52bb3-e36a-4773-9dd2-2adc457449d0",
   "metadata": {},
   "source": [
    "37. Convert a set to a tuple."
   ]
  },
  {
   "cell_type": "code",
   "execution_count": 58,
   "id": "3cfd703c-5fb8-4a1d-a68a-aea5a922a92d",
   "metadata": {},
   "outputs": [
    {
     "data": {
      "text/plain": [
       "('sai', 'mahi', 'sangi')"
      ]
     },
     "execution_count": 58,
     "metadata": {},
     "output_type": "execute_result"
    }
   ],
   "source": [
    "pyset={\"sai\",\"sangi\",\"mahi\"}\n",
    "tup=tuple(pyset)\n",
    "tup"
   ]
  },
  {
   "cell_type": "markdown",
   "id": "3c337c61-e276-4029-aca6-87faac602f03",
   "metadata": {},
   "source": [
    "38. Find the maximum value in a set."
   ]
  },
  {
   "cell_type": "code",
   "execution_count": 59,
   "id": "59686143-3857-4d2f-b1a4-fb111644687a",
   "metadata": {},
   "outputs": [
    {
     "data": {
      "text/plain": [
       "92"
      ]
     },
     "execution_count": 59,
     "metadata": {},
     "output_type": "execute_result"
    }
   ],
   "source": [
    "pyset={52,44,68,92,33}\n",
    "max(pyset)"
   ]
  },
  {
   "cell_type": "markdown",
   "id": "7da92953-36d9-4879-bd08-82d9ac8127d8",
   "metadata": {},
   "source": [
    "39. Find the minimum value in a set."
   ]
  },
  {
   "cell_type": "code",
   "execution_count": 60,
   "id": "be907bd2-7dde-4152-a6ef-693043ff40c2",
   "metadata": {},
   "outputs": [
    {
     "data": {
      "text/plain": [
       "33"
      ]
     },
     "execution_count": 60,
     "metadata": {},
     "output_type": "execute_result"
    }
   ],
   "source": [
    "pyset={52,44,68,92,33}\n",
    "min(pyset)"
   ]
  },
  {
   "cell_type": "markdown",
   "id": "c2b412d3-98b9-41ce-be66-1e379a448a53",
   "metadata": {},
   "source": [
    "40. Create a set from user input."
   ]
  },
  {
   "cell_type": "code",
   "execution_count": 62,
   "id": "b514e089-6403-4ceb-a42f-d32fe7f3d1f6",
   "metadata": {},
   "outputs": [
    {
     "name": "stdin",
     "output_type": "stream",
     "text": [
      "enter your input s,a,i,b,a,v,y,a\n"
     ]
    },
    {
     "data": {
      "text/plain": [
       "{'a', 'b', 'i', 's', 'v', 'y'}"
      ]
     },
     "execution_count": 62,
     "metadata": {},
     "output_type": "execute_result"
    }
   ],
   "source": [
    "pyset=input(\"enter your input\")\n",
    "set1=pyset.split(',')\n",
    "pyset\n",
    "newset=set(set1)\n",
    "newset"
   ]
  },
  {
   "cell_type": "markdown",
   "id": "c66c0157-4522-4b39-9ba8-aa8ad8898758",
   "metadata": {},
   "source": [
    "41. Check if the intersection of two sets is empty."
   ]
  },
  {
   "cell_type": "code",
   "execution_count": 63,
   "id": "cdf2716d-0a94-43e6-8a8b-c25d83c52bdf",
   "metadata": {},
   "outputs": [
    {
     "name": "stdout",
     "output_type": "stream",
     "text": [
      "empty\n"
     ]
    }
   ],
   "source": [
    "set1={1,2,3,4}\n",
    "set2={7,6,7,8}\n",
    "if len(set1.intersection(set2))==0:\n",
    "    print(\"empty\")\n",
    "else:\n",
    "    print(\"intersection is not empty\")"
   ]
  },
  {
   "cell_type": "markdown",
   "id": "15b709f7-def4-4dce-8ae7-859e5b3c078c",
   "metadata": {},
   "source": [
    "42. Create a set of the first 5 Fibonacci numbers."
   ]
  },
  {
   "cell_type": "code",
   "execution_count": 64,
   "id": "0859a01c-0bc9-4846-b4e0-e44a93d73298",
   "metadata": {},
   "outputs": [
    {
     "name": "stdout",
     "output_type": "stream",
     "text": [
      "{0, 1, 2, 3, 5}\n"
     ]
    }
   ],
   "source": [
    "pyset=set()\n",
    "a,b=0,1\n",
    "for i in range(5):\n",
    "    pyset.add(a)\n",
    "    pyset.add(b)\n",
    "    a,b=b,a+b\n",
    "print(pyset)  #set doesnot allow duplicates"
   ]
  },
  {
   "cell_type": "markdown",
   "id": "c78c1f9b-2856-4d3a-b983-dbdd61936f06",
   "metadata": {},
   "source": [
    "43. Remove duplicates from a list using sets."
   ]
  },
  {
   "cell_type": "code",
   "execution_count": 65,
   "id": "84d96541-343e-40bb-930c-911ceb221c43",
   "metadata": {},
   "outputs": [
    {
     "data": {
      "text/plain": [
       "[1, 2, 3, 4, 5]"
      ]
     },
     "execution_count": 65,
     "metadata": {},
     "output_type": "execute_result"
    }
   ],
   "source": [
    "pylist=[1,2,3,4,3,2,5]\n",
    "newlist=list(set(pylist))\n",
    "newlist"
   ]
  },
  {
   "cell_type": "markdown",
   "id": "73ca03aa-673e-41d1-9eb5-f1bd5cc525ea",
   "metadata": {},
   "source": [
    "44. Check if two sets have the same elements, regardless of their count."
   ]
  },
  {
   "cell_type": "code",
   "execution_count": 66,
   "id": "ab0c42fe-571d-4fc9-a82f-9ea46a079a36",
   "metadata": {},
   "outputs": [
    {
     "name": "stdout",
     "output_type": "stream",
     "text": [
      "two sets have same elements\n"
     ]
    }
   ],
   "source": [
    "set1={10,20,30,40}\n",
    "set2={30,40,10,20}\n",
    "if set1==set2:\n",
    "    print(\"two sets have same elements\")\n",
    "else:\n",
    "    print(\"do not have same elements\")"
   ]
  },
  {
   "cell_type": "markdown",
   "id": "9eb44fb5-bbcd-4e45-a551-a4e18dfa677d",
   "metadata": {},
   "source": [
    "45. Create a set of the first `n` powers of 2."
   ]
  },
  {
   "cell_type": "code",
   "execution_count": 67,
   "id": "45ada6c0-8095-4373-9793-d5af8a1489b8",
   "metadata": {},
   "outputs": [
    {
     "data": {
      "text/plain": [
       "{1, 2, 4, 8, 16, 32, 64, 128, 256, 512}"
      ]
     },
     "execution_count": 67,
     "metadata": {},
     "output_type": "execute_result"
    }
   ],
   "source": [
    "n=10\n",
    "pyset={2**x for x in range(n)}\n",
    "pyset"
   ]
  },
  {
   "cell_type": "markdown",
   "id": "edf329b7-7270-4aaa-856b-779016afbe78",
   "metadata": {},
   "source": [
    "46. Find the common elements between a set and a list."
   ]
  },
  {
   "cell_type": "code",
   "execution_count": 13,
   "id": "1f6d0ec6-8856-4986-9b71-8b8c914ba1a3",
   "metadata": {},
   "outputs": [
    {
     "data": {
      "text/plain": [
       "[1, 4]"
      ]
     },
     "execution_count": 13,
     "metadata": {},
     "output_type": "execute_result"
    }
   ],
   "source": [
    "pyset={1,2,3,4}\n",
    "pylist=[1,4,7,9]\n",
    "common_elements=set(pyset.intersection(pylist))\n",
    "common_list=list(common_elements)\n",
    "common_list"
   ]
  },
  {
   "cell_type": "markdown",
   "id": "f60c6640-536b-467f-9d55-e16dc5c2968f",
   "metadata": {},
   "source": [
    "47. Create a set of the first `n` triangular numbers."
   ]
  },
  {
   "cell_type": "code",
   "execution_count": 17,
   "id": "7b9d8c01-4c1e-4199-b16f-85b05b53c20f",
   "metadata": {},
   "outputs": [
    {
     "name": "stdin",
     "output_type": "stream",
     "text": [
      "Enter the value of n:  5\n"
     ]
    },
    {
     "name": "stdout",
     "output_type": "stream",
     "text": [
      "{1, 3, 6, 10, 15}\n"
     ]
    }
   ],
   "source": [
    "n = int(input(\"Enter the value of n: \"))  # User inputs the value of n\n",
    "triangular_numbers_set = set()\n",
    "for i in range(1, n + 1):\n",
    "    triangular_number = (i * (i + 1)) // 2\n",
    "    triangular_numbers_set.add(triangular_number)\n",
    "print(triangular_numbers_set)    "
   ]
  },
  {
   "cell_type": "markdown",
   "id": "53f31ddb-c3f7-40bd-bd86-dadaaf5438e4",
   "metadata": {},
   "source": [
    "48. Check if a set contains another set as a subset."
   ]
  },
  {
   "cell_type": "code",
   "execution_count": 18,
   "id": "5e6e7312-c85a-437f-84f3-bce97b4c3f55",
   "metadata": {},
   "outputs": [
    {
     "name": "stdout",
     "output_type": "stream",
     "text": [
      "set2 is a subset of set1.\n"
     ]
    }
   ],
   "source": [
    "set1 = {1, 2, 3, 4, 5}\n",
    "set2 = {2, 4}\n",
    "if set2.issubset(set1):\n",
    "    print(\"set2 is a subset of set1.\")\n",
    "else:\n",
    "    print(\"set2 is not a subset of set1.\")"
   ]
  },
  {
   "cell_type": "markdown",
   "id": "6f5bd0d6-0a37-4494-9a4f-91c4a30d3484",
   "metadata": {},
   "source": [
    "49. Create a set of alternating 1s and 0s of length `n`."
   ]
  },
  {
   "cell_type": "code",
   "execution_count": 21,
   "id": "623f418a-9054-48a8-9b79-6e2d7ff3a67a",
   "metadata": {},
   "outputs": [
    {
     "name": "stdin",
     "output_type": "stream",
     "text": [
      "enter any number 7\n"
     ]
    },
    {
     "data": {
      "text/plain": [
       "{0, 1}"
      ]
     },
     "execution_count": 21,
     "metadata": {},
     "output_type": "execute_result"
    }
   ],
   "source": [
    "n=int(input(\"enter any number\"))\n",
    "alter_set=set([1 if x%2==0 else 0 for x in range(n)])\n",
    "alter_set"
   ]
  },
  {
   "cell_type": "markdown",
   "id": "f251a4d0-e0e9-4832-9216-b5bbe76202e8",
   "metadata": {},
   "source": [
    "50. Merge multiple sets into one."
   ]
  },
  {
   "cell_type": "code",
   "execution_count": 68,
   "id": "cdbebf1e-4e78-4c76-b989-bc8baf5c4b3d",
   "metadata": {},
   "outputs": [
    {
     "data": {
      "text/plain": [
       "{1, 2, 3, 4, 5, 6, 7, 8, 9}"
      ]
     },
     "execution_count": 68,
     "metadata": {},
     "output_type": "execute_result"
    }
   ],
   "source": [
    "set1={1,2,3}\n",
    "set2={4,5,6}\n",
    "set3={7,8,9}\n",
    "merged_set=set1.union(set2,set3)\n",
    "merged_set"
   ]
  }
 ],
 "metadata": {
  "kernelspec": {
   "display_name": "Python 3 (ipykernel)",
   "language": "python",
   "name": "python3"
  },
  "language_info": {
   "codemirror_mode": {
    "name": "ipython",
    "version": 3
   },
   "file_extension": ".py",
   "mimetype": "text/x-python",
   "name": "python",
   "nbconvert_exporter": "python",
   "pygments_lexer": "ipython3",
   "version": "3.10.8"
  }
 },
 "nbformat": 4,
 "nbformat_minor": 5
}
